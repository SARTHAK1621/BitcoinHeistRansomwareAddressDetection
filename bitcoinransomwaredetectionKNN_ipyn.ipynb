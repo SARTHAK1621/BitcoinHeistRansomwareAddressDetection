{
  "nbformat": 4,
  "nbformat_minor": 0,
  "metadata": {
    "colab": {
      "name": "bitcoinransomwaredetectionKNN.ipyn",
      "provenance": [],
      "collapsed_sections": [],
      "authorship_tag": "ABX9TyPbM9jJt9sHs08LOc6n+QcF",
      "include_colab_link": true
    },
    "kernelspec": {
      "name": "python3",
      "display_name": "Python 3"
    }
  },
  "cells": [
    {
      "cell_type": "markdown",
      "metadata": {
        "id": "view-in-github",
        "colab_type": "text"
      },
      "source": [
        "<a href=\"https://colab.research.google.com/github/SARTHAK1621/BitcoinHeistRansomwareAddressDetection/blob/master/bitcoinransomwaredetectionKNN_ipyn.ipynb\" target=\"_parent\"><img src=\"https://colab.research.google.com/assets/colab-badge.svg\" alt=\"Open In Colab\"/></a>"
      ]
    },
    {
      "cell_type": "code",
      "metadata": {
        "id": "1rDuHsMJeSOk",
        "colab": {
          "base_uri": "https://localhost:8080/"
        },
        "outputId": "866eb37d-5166-4898-c66b-d137c0e6f0ae"
      },
      "source": [
        "from google.colab import drive\n",
        "drive.mount('/content/gdrive')"
      ],
      "execution_count": 1,
      "outputs": [
        {
          "output_type": "stream",
          "text": [
            "Drive already mounted at /content/gdrive; to attempt to forcibly remount, call drive.mount(\"/content/gdrive\", force_remount=True).\n"
          ],
          "name": "stdout"
        }
      ]
    },
    {
      "cell_type": "code",
      "metadata": {
        "id": "PCAtWezhwpoq"
      },
      "source": [
        "\n",
        "# Code to read csv file into Colaboratory:\n",
        "!pip install -U -q PyDrive\n",
        "from pydrive.auth import GoogleAuth\n",
        "from pydrive.drive import GoogleDrive\n",
        "from google.colab import auth\n",
        "from oauth2client.client import GoogleCredentials\n",
        "# Authenticate and create the PyDrive client.\n",
        "auth.authenticate_user()\n",
        "gauth = GoogleAuth()\n",
        "gauth.credentials = GoogleCredentials.get_application_default()\n",
        "drive = GoogleDrive(gauth)\n",
        "import pandas as pd\n"
      ],
      "execution_count": 2,
      "outputs": []
    },
    {
      "cell_type": "code",
      "metadata": {
        "id": "I0RWLB9daO3E"
      },
      "source": [
        "import numpy as np\n",
        "import pandas as pd\n",
        "import matplotlib.pyplot as plt\n",
        "import seaborn as sns\n",
        "from scipy import stats\n",
        "from sklearn.preprocessing import MinMaxScaler\n",
        "from sklearn import preprocessing, neighbors\n",
        "from sklearn.model_selection import train_test_split\n",
        "from sklearn.preprocessing import StandardScaler\n"
      ],
      "execution_count": 3,
      "outputs": []
    },
    {
      "cell_type": "code",
      "metadata": {
        "id": "cfnKgu85k8R2",
        "colab": {
          "base_uri": "https://localhost:8080/"
        },
        "outputId": "1d0ff3cd-2556-47d8-f639-dcaf9ffc1e29"
      },
      "source": [
        "link = 'https://drive.google.com/file/d/13F_-DeML6Lu9lFhOc5gkoutxdafiE03J/view?usp=sharing' # The shareable link\n",
        "id = \"13F_-DeML6Lu9lFhOc5gkoutxdafiE03J\"\n",
        "print (id) # Verify that you have everything after '='\n",
        "\n",
        "downloaded = drive.CreateFile({'id':id}) \n",
        "downloaded.GetContentFile('BitcoinHeistData.csv')  \n",
        "data_df = pd.read_csv('BitcoinHeistData.csv')\n",
        "print(data_df.shape)\n",
        "# Dataset is now stored in a Pandas Dataframe\n",
        "\n"
      ],
      "execution_count": 4,
      "outputs": [
        {
          "output_type": "stream",
          "text": [
            "13F_-DeML6Lu9lFhOc5gkoutxdafiE03J\n",
            "(2916697, 10)\n"
          ],
          "name": "stdout"
        }
      ]
    },
    {
      "cell_type": "code",
      "metadata": {
        "id": "AY97uPEBlKvu",
        "colab": {
          "base_uri": "https://localhost:8080/"
        },
        "outputId": "71cec3dd-5558-404d-d25b-7d0d601b1db9"
      },
      "source": [
        "len(data_df['label'].unique())"
      ],
      "execution_count": 5,
      "outputs": [
        {
          "output_type": "execute_result",
          "data": {
            "text/plain": [
              "29"
            ]
          },
          "metadata": {
            "tags": []
          },
          "execution_count": 5
        }
      ]
    },
    {
      "cell_type": "code",
      "metadata": {
        "colab": {
          "base_uri": "https://localhost:8080/"
        },
        "id": "YVTqn-CgxNw5",
        "outputId": "e49dc172-6a88-4ae4-9690-8290dfe29380"
      },
      "source": [
        "data_df.shape"
      ],
      "execution_count": 6,
      "outputs": [
        {
          "output_type": "execute_result",
          "data": {
            "text/plain": [
              "(2916697, 10)"
            ]
          },
          "metadata": {
            "tags": []
          },
          "execution_count": 6
        }
      ]
    },
    {
      "cell_type": "code",
      "metadata": {
        "colab": {
          "base_uri": "https://localhost:8080/",
          "height": 297
        },
        "id": "TI4SusNWxoXW",
        "outputId": "7b63c252-5738-4788-eaec-de2fda486608"
      },
      "source": [
        "data_df.describe()"
      ],
      "execution_count": 7,
      "outputs": [
        {
          "output_type": "execute_result",
          "data": {
            "text/html": [
              "<div>\n",
              "<style scoped>\n",
              "    .dataframe tbody tr th:only-of-type {\n",
              "        vertical-align: middle;\n",
              "    }\n",
              "\n",
              "    .dataframe tbody tr th {\n",
              "        vertical-align: top;\n",
              "    }\n",
              "\n",
              "    .dataframe thead th {\n",
              "        text-align: right;\n",
              "    }\n",
              "</style>\n",
              "<table border=\"1\" class=\"dataframe\">\n",
              "  <thead>\n",
              "    <tr style=\"text-align: right;\">\n",
              "      <th></th>\n",
              "      <th>year</th>\n",
              "      <th>day</th>\n",
              "      <th>length</th>\n",
              "      <th>weight</th>\n",
              "      <th>count</th>\n",
              "      <th>looped</th>\n",
              "      <th>neighbors</th>\n",
              "      <th>income</th>\n",
              "    </tr>\n",
              "  </thead>\n",
              "  <tbody>\n",
              "    <tr>\n",
              "      <th>count</th>\n",
              "      <td>2.916697e+06</td>\n",
              "      <td>2.916697e+06</td>\n",
              "      <td>2.916697e+06</td>\n",
              "      <td>2.916697e+06</td>\n",
              "      <td>2.916697e+06</td>\n",
              "      <td>2.916697e+06</td>\n",
              "      <td>2.916697e+06</td>\n",
              "      <td>2.916697e+06</td>\n",
              "    </tr>\n",
              "    <tr>\n",
              "      <th>mean</th>\n",
              "      <td>2.014475e+03</td>\n",
              "      <td>1.814572e+02</td>\n",
              "      <td>4.500859e+01</td>\n",
              "      <td>5.455192e-01</td>\n",
              "      <td>7.216446e+02</td>\n",
              "      <td>2.385067e+02</td>\n",
              "      <td>2.206516e+00</td>\n",
              "      <td>4.464889e+09</td>\n",
              "    </tr>\n",
              "    <tr>\n",
              "      <th>std</th>\n",
              "      <td>2.257398e+00</td>\n",
              "      <td>1.040118e+02</td>\n",
              "      <td>5.898236e+01</td>\n",
              "      <td>3.674255e+00</td>\n",
              "      <td>1.689676e+03</td>\n",
              "      <td>9.663217e+02</td>\n",
              "      <td>1.791877e+01</td>\n",
              "      <td>1.626860e+11</td>\n",
              "    </tr>\n",
              "    <tr>\n",
              "      <th>min</th>\n",
              "      <td>2.011000e+03</td>\n",
              "      <td>1.000000e+00</td>\n",
              "      <td>0.000000e+00</td>\n",
              "      <td>3.606469e-94</td>\n",
              "      <td>1.000000e+00</td>\n",
              "      <td>0.000000e+00</td>\n",
              "      <td>1.000000e+00</td>\n",
              "      <td>3.000000e+07</td>\n",
              "    </tr>\n",
              "    <tr>\n",
              "      <th>25%</th>\n",
              "      <td>2.013000e+03</td>\n",
              "      <td>9.200000e+01</td>\n",
              "      <td>2.000000e+00</td>\n",
              "      <td>2.148438e-02</td>\n",
              "      <td>1.000000e+00</td>\n",
              "      <td>0.000000e+00</td>\n",
              "      <td>1.000000e+00</td>\n",
              "      <td>7.428559e+07</td>\n",
              "    </tr>\n",
              "    <tr>\n",
              "      <th>50%</th>\n",
              "      <td>2.014000e+03</td>\n",
              "      <td>1.810000e+02</td>\n",
              "      <td>8.000000e+00</td>\n",
              "      <td>2.500000e-01</td>\n",
              "      <td>1.000000e+00</td>\n",
              "      <td>0.000000e+00</td>\n",
              "      <td>2.000000e+00</td>\n",
              "      <td>1.999985e+08</td>\n",
              "    </tr>\n",
              "    <tr>\n",
              "      <th>75%</th>\n",
              "      <td>2.016000e+03</td>\n",
              "      <td>2.710000e+02</td>\n",
              "      <td>1.080000e+02</td>\n",
              "      <td>8.819482e-01</td>\n",
              "      <td>5.600000e+01</td>\n",
              "      <td>0.000000e+00</td>\n",
              "      <td>2.000000e+00</td>\n",
              "      <td>9.940000e+08</td>\n",
              "    </tr>\n",
              "    <tr>\n",
              "      <th>max</th>\n",
              "      <td>2.018000e+03</td>\n",
              "      <td>3.650000e+02</td>\n",
              "      <td>1.440000e+02</td>\n",
              "      <td>1.943749e+03</td>\n",
              "      <td>1.449700e+04</td>\n",
              "      <td>1.449600e+04</td>\n",
              "      <td>1.292000e+04</td>\n",
              "      <td>4.996440e+13</td>\n",
              "    </tr>\n",
              "  </tbody>\n",
              "</table>\n",
              "</div>"
            ],
            "text/plain": [
              "               year           day  ...     neighbors        income\n",
              "count  2.916697e+06  2.916697e+06  ...  2.916697e+06  2.916697e+06\n",
              "mean   2.014475e+03  1.814572e+02  ...  2.206516e+00  4.464889e+09\n",
              "std    2.257398e+00  1.040118e+02  ...  1.791877e+01  1.626860e+11\n",
              "min    2.011000e+03  1.000000e+00  ...  1.000000e+00  3.000000e+07\n",
              "25%    2.013000e+03  9.200000e+01  ...  1.000000e+00  7.428559e+07\n",
              "50%    2.014000e+03  1.810000e+02  ...  2.000000e+00  1.999985e+08\n",
              "75%    2.016000e+03  2.710000e+02  ...  2.000000e+00  9.940000e+08\n",
              "max    2.018000e+03  3.650000e+02  ...  1.292000e+04  4.996440e+13\n",
              "\n",
              "[8 rows x 8 columns]"
            ]
          },
          "metadata": {
            "tags": []
          },
          "execution_count": 7
        }
      ]
    },
    {
      "cell_type": "code",
      "metadata": {
        "colab": {
          "base_uri": "https://localhost:8080/",
          "height": 297
        },
        "id": "plr2_9klx_MB",
        "outputId": "a2bcd4b3-6fb4-48d6-f31a-1d39d519c2cb"
      },
      "source": [
        "data_df.corr()"
      ],
      "execution_count": 8,
      "outputs": [
        {
          "output_type": "execute_result",
          "data": {
            "text/html": [
              "<div>\n",
              "<style scoped>\n",
              "    .dataframe tbody tr th:only-of-type {\n",
              "        vertical-align: middle;\n",
              "    }\n",
              "\n",
              "    .dataframe tbody tr th {\n",
              "        vertical-align: top;\n",
              "    }\n",
              "\n",
              "    .dataframe thead th {\n",
              "        text-align: right;\n",
              "    }\n",
              "</style>\n",
              "<table border=\"1\" class=\"dataframe\">\n",
              "  <thead>\n",
              "    <tr style=\"text-align: right;\">\n",
              "      <th></th>\n",
              "      <th>year</th>\n",
              "      <th>day</th>\n",
              "      <th>length</th>\n",
              "      <th>weight</th>\n",
              "      <th>count</th>\n",
              "      <th>looped</th>\n",
              "      <th>neighbors</th>\n",
              "      <th>income</th>\n",
              "    </tr>\n",
              "  </thead>\n",
              "  <tbody>\n",
              "    <tr>\n",
              "      <th>year</th>\n",
              "      <td>1.000000</td>\n",
              "      <td>-0.040307</td>\n",
              "      <td>0.163101</td>\n",
              "      <td>0.011827</td>\n",
              "      <td>0.285415</td>\n",
              "      <td>0.113164</td>\n",
              "      <td>-0.000876</td>\n",
              "      <td>-0.020535</td>\n",
              "    </tr>\n",
              "    <tr>\n",
              "      <th>day</th>\n",
              "      <td>-0.040307</td>\n",
              "      <td>1.000000</td>\n",
              "      <td>0.011919</td>\n",
              "      <td>0.000864</td>\n",
              "      <td>-0.002538</td>\n",
              "      <td>0.002566</td>\n",
              "      <td>0.000181</td>\n",
              "      <td>0.002628</td>\n",
              "    </tr>\n",
              "    <tr>\n",
              "      <th>length</th>\n",
              "      <td>0.163101</td>\n",
              "      <td>0.011919</td>\n",
              "      <td>1.000000</td>\n",
              "      <td>0.000228</td>\n",
              "      <td>0.703467</td>\n",
              "      <td>0.411609</td>\n",
              "      <td>0.031523</td>\n",
              "      <td>0.000488</td>\n",
              "    </tr>\n",
              "    <tr>\n",
              "      <th>weight</th>\n",
              "      <td>0.011827</td>\n",
              "      <td>0.000864</td>\n",
              "      <td>0.000228</td>\n",
              "      <td>1.000000</td>\n",
              "      <td>0.022313</td>\n",
              "      <td>0.061646</td>\n",
              "      <td>0.691963</td>\n",
              "      <td>0.069774</td>\n",
              "    </tr>\n",
              "    <tr>\n",
              "      <th>count</th>\n",
              "      <td>0.285415</td>\n",
              "      <td>-0.002538</td>\n",
              "      <td>0.703467</td>\n",
              "      <td>0.022313</td>\n",
              "      <td>1.000000</td>\n",
              "      <td>0.560370</td>\n",
              "      <td>0.025441</td>\n",
              "      <td>-0.003635</td>\n",
              "    </tr>\n",
              "    <tr>\n",
              "      <th>looped</th>\n",
              "      <td>0.113164</td>\n",
              "      <td>0.002566</td>\n",
              "      <td>0.411609</td>\n",
              "      <td>0.061646</td>\n",
              "      <td>0.560370</td>\n",
              "      <td>1.000000</td>\n",
              "      <td>0.052826</td>\n",
              "      <td>0.002551</td>\n",
              "    </tr>\n",
              "    <tr>\n",
              "      <th>neighbors</th>\n",
              "      <td>-0.000876</td>\n",
              "      <td>0.000181</td>\n",
              "      <td>0.031523</td>\n",
              "      <td>0.691963</td>\n",
              "      <td>0.025441</td>\n",
              "      <td>0.052826</td>\n",
              "      <td>1.000000</td>\n",
              "      <td>0.138966</td>\n",
              "    </tr>\n",
              "    <tr>\n",
              "      <th>income</th>\n",
              "      <td>-0.020535</td>\n",
              "      <td>0.002628</td>\n",
              "      <td>0.000488</td>\n",
              "      <td>0.069774</td>\n",
              "      <td>-0.003635</td>\n",
              "      <td>0.002551</td>\n",
              "      <td>0.138966</td>\n",
              "      <td>1.000000</td>\n",
              "    </tr>\n",
              "  </tbody>\n",
              "</table>\n",
              "</div>"
            ],
            "text/plain": [
              "               year       day    length  ...    looped  neighbors    income\n",
              "year       1.000000 -0.040307  0.163101  ...  0.113164  -0.000876 -0.020535\n",
              "day       -0.040307  1.000000  0.011919  ...  0.002566   0.000181  0.002628\n",
              "length     0.163101  0.011919  1.000000  ...  0.411609   0.031523  0.000488\n",
              "weight     0.011827  0.000864  0.000228  ...  0.061646   0.691963  0.069774\n",
              "count      0.285415 -0.002538  0.703467  ...  0.560370   0.025441 -0.003635\n",
              "looped     0.113164  0.002566  0.411609  ...  1.000000   0.052826  0.002551\n",
              "neighbors -0.000876  0.000181  0.031523  ...  0.052826   1.000000  0.138966\n",
              "income    -0.020535  0.002628  0.000488  ...  0.002551   0.138966  1.000000\n",
              "\n",
              "[8 rows x 8 columns]"
            ]
          },
          "metadata": {
            "tags": []
          },
          "execution_count": 8
        }
      ]
    },
    {
      "cell_type": "code",
      "metadata": {
        "colab": {
          "base_uri": "https://localhost:8080/"
        },
        "id": "yjQqwfWOyXO8",
        "outputId": "e950c161-a4f7-4d00-9cdd-59130969f2d2"
      },
      "source": [
        "data_df.dtypes"
      ],
      "execution_count": 9,
      "outputs": [
        {
          "output_type": "execute_result",
          "data": {
            "text/plain": [
              "address       object\n",
              "year           int64\n",
              "day            int64\n",
              "length         int64\n",
              "weight       float64\n",
              "count          int64\n",
              "looped         int64\n",
              "neighbors      int64\n",
              "income       float64\n",
              "label         object\n",
              "dtype: object"
            ]
          },
          "metadata": {
            "tags": []
          },
          "execution_count": 9
        }
      ]
    },
    {
      "cell_type": "code",
      "metadata": {
        "colab": {
          "base_uri": "https://localhost:8080/"
        },
        "id": "P0jaNVRLya0q",
        "outputId": "f277019b-1a36-43dd-b158-ead92b7451ea"
      },
      "source": [
        "data_df['label'].unique()"
      ],
      "execution_count": 10,
      "outputs": [
        {
          "output_type": "execute_result",
          "data": {
            "text/plain": [
              "array(['princetonCerber', 'princetonLocky', 'montrealCryptoLocker',\n",
              "       'montrealCryptXXX', 'paduaCryptoWall', 'montrealWannaCry',\n",
              "       'montrealDMALockerv3', 'montrealCryptoTorLocker2015',\n",
              "       'montrealSamSam', 'montrealFlyper', 'montrealNoobCrypt',\n",
              "       'montrealDMALocker', 'montrealGlobe', 'montrealEDA2',\n",
              "       'paduaKeRanger', 'montrealVenusLocker', 'montrealXTPLocker',\n",
              "       'paduaJigsaw', 'montrealGlobev3', 'montrealJigSaw',\n",
              "       'montrealXLockerv5.0', 'montrealXLocker', 'montrealRazy',\n",
              "       'montrealCryptConsole', 'montrealGlobeImposter', 'montrealSam',\n",
              "       'montrealComradeCircle', 'montrealAPT', 'white'], dtype=object)"
            ]
          },
          "metadata": {
            "tags": []
          },
          "execution_count": 10
        }
      ]
    },
    {
      "cell_type": "code",
      "metadata": {
        "id": "GhWAiwEJyfU1"
      },
      "source": [
        "ransomware_list = ['princetonCerber','princetonLocky','montrealCryptoLocker',\n",
        "                    'montrealCryptXXX','montrealWannaCry','montrealDMALockerv3', 'montrealCryptoTorLocker2015',\n",
        "                    'montrealSamSam', 'montrealFlyper', 'montrealNoobCrypt','montrealDMALocker', 'montrealGlobe',\n",
        "                    'montrealEDA2','montrealVenusLocker', 'montrealXTPLocker','montrealGlobev3', 'montrealJigSaw',\n",
        "                    'montrealXLockerv5.0', 'montrealXLocker', 'montrealRazy','montrealCryptConsole', 'montrealGlobeImposter',\n",
        "                    'montrealSam','montrealComradeCircle', 'montrealAPT',\n",
        "                   'paduaCryptoWall','paduaKeRanger','paduaJigsaw']\n",
        "data_df.replace(ransomware_list,'ransomeware',inplace = True)"
      ],
      "execution_count": 11,
      "outputs": []
    },
    {
      "cell_type": "code",
      "metadata": {
        "colab": {
          "base_uri": "https://localhost:8080/",
          "height": 204
        },
        "id": "N_4da9N3Z_O3",
        "outputId": "23b69148-8e71-421d-d455-6451d2e76894"
      },
      "source": [
        "label_encoder = preprocessing.LabelEncoder()\n",
        "data_df['address']=label_encoder.fit_transform(data_df['address'])\n",
        "data_df.head()"
      ],
      "execution_count": 12,
      "outputs": [
        {
          "output_type": "execute_result",
          "data": {
            "text/html": [
              "<div>\n",
              "<style scoped>\n",
              "    .dataframe tbody tr th:only-of-type {\n",
              "        vertical-align: middle;\n",
              "    }\n",
              "\n",
              "    .dataframe tbody tr th {\n",
              "        vertical-align: top;\n",
              "    }\n",
              "\n",
              "    .dataframe thead th {\n",
              "        text-align: right;\n",
              "    }\n",
              "</style>\n",
              "<table border=\"1\" class=\"dataframe\">\n",
              "  <thead>\n",
              "    <tr style=\"text-align: right;\">\n",
              "      <th></th>\n",
              "      <th>address</th>\n",
              "      <th>year</th>\n",
              "      <th>day</th>\n",
              "      <th>length</th>\n",
              "      <th>weight</th>\n",
              "      <th>count</th>\n",
              "      <th>looped</th>\n",
              "      <th>neighbors</th>\n",
              "      <th>income</th>\n",
              "      <th>label</th>\n",
              "    </tr>\n",
              "  </thead>\n",
              "  <tbody>\n",
              "    <tr>\n",
              "      <th>0</th>\n",
              "      <td>23</td>\n",
              "      <td>2017</td>\n",
              "      <td>11</td>\n",
              "      <td>18</td>\n",
              "      <td>0.008333</td>\n",
              "      <td>1</td>\n",
              "      <td>0</td>\n",
              "      <td>2</td>\n",
              "      <td>100050000.0</td>\n",
              "      <td>ransomeware</td>\n",
              "    </tr>\n",
              "    <tr>\n",
              "      <th>1</th>\n",
              "      <td>128</td>\n",
              "      <td>2016</td>\n",
              "      <td>132</td>\n",
              "      <td>44</td>\n",
              "      <td>0.000244</td>\n",
              "      <td>1</td>\n",
              "      <td>0</td>\n",
              "      <td>1</td>\n",
              "      <td>100000000.0</td>\n",
              "      <td>ransomeware</td>\n",
              "    </tr>\n",
              "    <tr>\n",
              "      <th>2</th>\n",
              "      <td>169</td>\n",
              "      <td>2016</td>\n",
              "      <td>246</td>\n",
              "      <td>0</td>\n",
              "      <td>1.000000</td>\n",
              "      <td>1</td>\n",
              "      <td>0</td>\n",
              "      <td>2</td>\n",
              "      <td>200000000.0</td>\n",
              "      <td>ransomeware</td>\n",
              "    </tr>\n",
              "    <tr>\n",
              "      <th>3</th>\n",
              "      <td>217</td>\n",
              "      <td>2016</td>\n",
              "      <td>322</td>\n",
              "      <td>72</td>\n",
              "      <td>0.003906</td>\n",
              "      <td>1</td>\n",
              "      <td>0</td>\n",
              "      <td>2</td>\n",
              "      <td>71200000.0</td>\n",
              "      <td>ransomeware</td>\n",
              "    </tr>\n",
              "    <tr>\n",
              "      <th>4</th>\n",
              "      <td>293</td>\n",
              "      <td>2016</td>\n",
              "      <td>238</td>\n",
              "      <td>144</td>\n",
              "      <td>0.072848</td>\n",
              "      <td>456</td>\n",
              "      <td>0</td>\n",
              "      <td>1</td>\n",
              "      <td>200000000.0</td>\n",
              "      <td>ransomeware</td>\n",
              "    </tr>\n",
              "  </tbody>\n",
              "</table>\n",
              "</div>"
            ],
            "text/plain": [
              "   address  year  day  length  ...  looped  neighbors       income        label\n",
              "0       23  2017   11      18  ...       0          2  100050000.0  ransomeware\n",
              "1      128  2016  132      44  ...       0          1  100000000.0  ransomeware\n",
              "2      169  2016  246       0  ...       0          2  200000000.0  ransomeware\n",
              "3      217  2016  322      72  ...       0          2   71200000.0  ransomeware\n",
              "4      293  2016  238     144  ...       0          1  200000000.0  ransomeware\n",
              "\n",
              "[5 rows x 10 columns]"
            ]
          },
          "metadata": {
            "tags": []
          },
          "execution_count": 12
        }
      ]
    },
    {
      "cell_type": "code",
      "metadata": {
        "colab": {
          "base_uri": "https://localhost:8080/",
          "height": 419
        },
        "id": "sPwNsXhIaEuP",
        "outputId": "f3714337-603e-4236-f7c5-083d7ce813dd"
      },
      "source": [
        "data_df.replace('ransomeware',1,inplace = True)\n",
        "data_df.replace('white',2,inplace = True)\n",
        "data_df"
      ],
      "execution_count": 13,
      "outputs": [
        {
          "output_type": "execute_result",
          "data": {
            "text/html": [
              "<div>\n",
              "<style scoped>\n",
              "    .dataframe tbody tr th:only-of-type {\n",
              "        vertical-align: middle;\n",
              "    }\n",
              "\n",
              "    .dataframe tbody tr th {\n",
              "        vertical-align: top;\n",
              "    }\n",
              "\n",
              "    .dataframe thead th {\n",
              "        text-align: right;\n",
              "    }\n",
              "</style>\n",
              "<table border=\"1\" class=\"dataframe\">\n",
              "  <thead>\n",
              "    <tr style=\"text-align: right;\">\n",
              "      <th></th>\n",
              "      <th>address</th>\n",
              "      <th>year</th>\n",
              "      <th>day</th>\n",
              "      <th>length</th>\n",
              "      <th>weight</th>\n",
              "      <th>count</th>\n",
              "      <th>looped</th>\n",
              "      <th>neighbors</th>\n",
              "      <th>income</th>\n",
              "      <th>label</th>\n",
              "    </tr>\n",
              "  </thead>\n",
              "  <tbody>\n",
              "    <tr>\n",
              "      <th>0</th>\n",
              "      <td>23</td>\n",
              "      <td>2017</td>\n",
              "      <td>11</td>\n",
              "      <td>18</td>\n",
              "      <td>0.008333</td>\n",
              "      <td>1</td>\n",
              "      <td>0</td>\n",
              "      <td>2</td>\n",
              "      <td>1.000500e+08</td>\n",
              "      <td>1</td>\n",
              "    </tr>\n",
              "    <tr>\n",
              "      <th>1</th>\n",
              "      <td>128</td>\n",
              "      <td>2016</td>\n",
              "      <td>132</td>\n",
              "      <td>44</td>\n",
              "      <td>0.000244</td>\n",
              "      <td>1</td>\n",
              "      <td>0</td>\n",
              "      <td>1</td>\n",
              "      <td>1.000000e+08</td>\n",
              "      <td>1</td>\n",
              "    </tr>\n",
              "    <tr>\n",
              "      <th>2</th>\n",
              "      <td>169</td>\n",
              "      <td>2016</td>\n",
              "      <td>246</td>\n",
              "      <td>0</td>\n",
              "      <td>1.000000</td>\n",
              "      <td>1</td>\n",
              "      <td>0</td>\n",
              "      <td>2</td>\n",
              "      <td>2.000000e+08</td>\n",
              "      <td>1</td>\n",
              "    </tr>\n",
              "    <tr>\n",
              "      <th>3</th>\n",
              "      <td>217</td>\n",
              "      <td>2016</td>\n",
              "      <td>322</td>\n",
              "      <td>72</td>\n",
              "      <td>0.003906</td>\n",
              "      <td>1</td>\n",
              "      <td>0</td>\n",
              "      <td>2</td>\n",
              "      <td>7.120000e+07</td>\n",
              "      <td>1</td>\n",
              "    </tr>\n",
              "    <tr>\n",
              "      <th>4</th>\n",
              "      <td>293</td>\n",
              "      <td>2016</td>\n",
              "      <td>238</td>\n",
              "      <td>144</td>\n",
              "      <td>0.072848</td>\n",
              "      <td>456</td>\n",
              "      <td>0</td>\n",
              "      <td>1</td>\n",
              "      <td>2.000000e+08</td>\n",
              "      <td>1</td>\n",
              "    </tr>\n",
              "    <tr>\n",
              "      <th>...</th>\n",
              "      <td>...</td>\n",
              "      <td>...</td>\n",
              "      <td>...</td>\n",
              "      <td>...</td>\n",
              "      <td>...</td>\n",
              "      <td>...</td>\n",
              "      <td>...</td>\n",
              "      <td>...</td>\n",
              "      <td>...</td>\n",
              "      <td>...</td>\n",
              "    </tr>\n",
              "    <tr>\n",
              "      <th>2916692</th>\n",
              "      <td>30849</td>\n",
              "      <td>2018</td>\n",
              "      <td>330</td>\n",
              "      <td>0</td>\n",
              "      <td>0.111111</td>\n",
              "      <td>1</td>\n",
              "      <td>0</td>\n",
              "      <td>1</td>\n",
              "      <td>1.255809e+09</td>\n",
              "      <td>2</td>\n",
              "    </tr>\n",
              "    <tr>\n",
              "      <th>2916693</th>\n",
              "      <td>2192574</td>\n",
              "      <td>2018</td>\n",
              "      <td>330</td>\n",
              "      <td>0</td>\n",
              "      <td>1.000000</td>\n",
              "      <td>1</td>\n",
              "      <td>0</td>\n",
              "      <td>1</td>\n",
              "      <td>4.409699e+07</td>\n",
              "      <td>2</td>\n",
              "    </tr>\n",
              "    <tr>\n",
              "      <th>2916694</th>\n",
              "      <td>1824270</td>\n",
              "      <td>2018</td>\n",
              "      <td>330</td>\n",
              "      <td>2</td>\n",
              "      <td>12.000000</td>\n",
              "      <td>6</td>\n",
              "      <td>6</td>\n",
              "      <td>35</td>\n",
              "      <td>2.398267e+09</td>\n",
              "      <td>2</td>\n",
              "    </tr>\n",
              "    <tr>\n",
              "      <th>2916695</th>\n",
              "      <td>389289</td>\n",
              "      <td>2018</td>\n",
              "      <td>330</td>\n",
              "      <td>0</td>\n",
              "      <td>0.500000</td>\n",
              "      <td>1</td>\n",
              "      <td>0</td>\n",
              "      <td>1</td>\n",
              "      <td>1.780427e+08</td>\n",
              "      <td>2</td>\n",
              "    </tr>\n",
              "    <tr>\n",
              "      <th>2916696</th>\n",
              "      <td>2580865</td>\n",
              "      <td>2018</td>\n",
              "      <td>330</td>\n",
              "      <td>144</td>\n",
              "      <td>0.073972</td>\n",
              "      <td>6800</td>\n",
              "      <td>0</td>\n",
              "      <td>2</td>\n",
              "      <td>1.123500e+08</td>\n",
              "      <td>2</td>\n",
              "    </tr>\n",
              "  </tbody>\n",
              "</table>\n",
              "<p>2916697 rows × 10 columns</p>\n",
              "</div>"
            ],
            "text/plain": [
              "         address  year  day  length  ...  looped  neighbors        income  label\n",
              "0             23  2017   11      18  ...       0          2  1.000500e+08      1\n",
              "1            128  2016  132      44  ...       0          1  1.000000e+08      1\n",
              "2            169  2016  246       0  ...       0          2  2.000000e+08      1\n",
              "3            217  2016  322      72  ...       0          2  7.120000e+07      1\n",
              "4            293  2016  238     144  ...       0          1  2.000000e+08      1\n",
              "...          ...   ...  ...     ...  ...     ...        ...           ...    ...\n",
              "2916692    30849  2018  330       0  ...       0          1  1.255809e+09      2\n",
              "2916693  2192574  2018  330       0  ...       0          1  4.409699e+07      2\n",
              "2916694  1824270  2018  330       2  ...       6         35  2.398267e+09      2\n",
              "2916695   389289  2018  330       0  ...       0          1  1.780427e+08      2\n",
              "2916696  2580865  2018  330     144  ...       0          2  1.123500e+08      2\n",
              "\n",
              "[2916697 rows x 10 columns]"
            ]
          },
          "metadata": {
            "tags": []
          },
          "execution_count": 13
        }
      ]
    },
    {
      "cell_type": "code",
      "metadata": {
        "colab": {
          "base_uri": "https://localhost:8080/",
          "height": 359
        },
        "id": "tkrn0ahCae4N",
        "outputId": "131ea84c-3e8d-4c47-e214-05865a0e7593"
      },
      "source": [
        "data_df.corr()"
      ],
      "execution_count": 14,
      "outputs": [
        {
          "output_type": "execute_result",
          "data": {
            "text/html": [
              "<div>\n",
              "<style scoped>\n",
              "    .dataframe tbody tr th:only-of-type {\n",
              "        vertical-align: middle;\n",
              "    }\n",
              "\n",
              "    .dataframe tbody tr th {\n",
              "        vertical-align: top;\n",
              "    }\n",
              "\n",
              "    .dataframe thead th {\n",
              "        text-align: right;\n",
              "    }\n",
              "</style>\n",
              "<table border=\"1\" class=\"dataframe\">\n",
              "  <thead>\n",
              "    <tr style=\"text-align: right;\">\n",
              "      <th></th>\n",
              "      <th>address</th>\n",
              "      <th>year</th>\n",
              "      <th>day</th>\n",
              "      <th>length</th>\n",
              "      <th>weight</th>\n",
              "      <th>count</th>\n",
              "      <th>looped</th>\n",
              "      <th>neighbors</th>\n",
              "      <th>income</th>\n",
              "      <th>label</th>\n",
              "    </tr>\n",
              "  </thead>\n",
              "  <tbody>\n",
              "    <tr>\n",
              "      <th>address</th>\n",
              "      <td>1.000000</td>\n",
              "      <td>0.185803</td>\n",
              "      <td>0.017566</td>\n",
              "      <td>0.000723</td>\n",
              "      <td>0.009506</td>\n",
              "      <td>0.044201</td>\n",
              "      <td>0.008970</td>\n",
              "      <td>0.008869</td>\n",
              "      <td>-0.001169</td>\n",
              "      <td>0.016943</td>\n",
              "    </tr>\n",
              "    <tr>\n",
              "      <th>year</th>\n",
              "      <td>0.185803</td>\n",
              "      <td>1.000000</td>\n",
              "      <td>-0.040307</td>\n",
              "      <td>0.163101</td>\n",
              "      <td>0.011827</td>\n",
              "      <td>0.285415</td>\n",
              "      <td>0.113164</td>\n",
              "      <td>-0.000876</td>\n",
              "      <td>-0.020535</td>\n",
              "      <td>-0.021367</td>\n",
              "    </tr>\n",
              "    <tr>\n",
              "      <th>day</th>\n",
              "      <td>0.017566</td>\n",
              "      <td>-0.040307</td>\n",
              "      <td>1.000000</td>\n",
              "      <td>0.011919</td>\n",
              "      <td>0.000864</td>\n",
              "      <td>-0.002538</td>\n",
              "      <td>0.002566</td>\n",
              "      <td>0.000181</td>\n",
              "      <td>0.002628</td>\n",
              "      <td>0.008097</td>\n",
              "    </tr>\n",
              "    <tr>\n",
              "      <th>length</th>\n",
              "      <td>0.000723</td>\n",
              "      <td>0.163101</td>\n",
              "      <td>0.011919</td>\n",
              "      <td>1.000000</td>\n",
              "      <td>0.000228</td>\n",
              "      <td>0.703467</td>\n",
              "      <td>0.411609</td>\n",
              "      <td>0.031523</td>\n",
              "      <td>0.000488</td>\n",
              "      <td>0.006860</td>\n",
              "    </tr>\n",
              "    <tr>\n",
              "      <th>weight</th>\n",
              "      <td>0.009506</td>\n",
              "      <td>0.011827</td>\n",
              "      <td>0.000864</td>\n",
              "      <td>0.000228</td>\n",
              "      <td>1.000000</td>\n",
              "      <td>0.022313</td>\n",
              "      <td>0.061646</td>\n",
              "      <td>0.691963</td>\n",
              "      <td>0.069774</td>\n",
              "      <td>-0.002676</td>\n",
              "    </tr>\n",
              "    <tr>\n",
              "      <th>count</th>\n",
              "      <td>0.044201</td>\n",
              "      <td>0.285415</td>\n",
              "      <td>-0.002538</td>\n",
              "      <td>0.703467</td>\n",
              "      <td>0.022313</td>\n",
              "      <td>1.000000</td>\n",
              "      <td>0.560370</td>\n",
              "      <td>0.025441</td>\n",
              "      <td>-0.003635</td>\n",
              "      <td>0.008654</td>\n",
              "    </tr>\n",
              "    <tr>\n",
              "      <th>looped</th>\n",
              "      <td>0.008970</td>\n",
              "      <td>0.113164</td>\n",
              "      <td>0.002566</td>\n",
              "      <td>0.411609</td>\n",
              "      <td>0.061646</td>\n",
              "      <td>0.560370</td>\n",
              "      <td>1.000000</td>\n",
              "      <td>0.052826</td>\n",
              "      <td>0.002551</td>\n",
              "      <td>0.017810</td>\n",
              "    </tr>\n",
              "    <tr>\n",
              "      <th>neighbors</th>\n",
              "      <td>0.008869</td>\n",
              "      <td>-0.000876</td>\n",
              "      <td>0.000181</td>\n",
              "      <td>0.031523</td>\n",
              "      <td>0.691963</td>\n",
              "      <td>0.025441</td>\n",
              "      <td>0.052826</td>\n",
              "      <td>1.000000</td>\n",
              "      <td>0.138966</td>\n",
              "      <td>0.000872</td>\n",
              "    </tr>\n",
              "    <tr>\n",
              "      <th>income</th>\n",
              "      <td>-0.001169</td>\n",
              "      <td>-0.020535</td>\n",
              "      <td>0.002628</td>\n",
              "      <td>0.000488</td>\n",
              "      <td>0.069774</td>\n",
              "      <td>-0.003635</td>\n",
              "      <td>0.002551</td>\n",
              "      <td>0.138966</td>\n",
              "      <td>1.000000</td>\n",
              "      <td>0.002716</td>\n",
              "    </tr>\n",
              "    <tr>\n",
              "      <th>label</th>\n",
              "      <td>0.016943</td>\n",
              "      <td>-0.021367</td>\n",
              "      <td>0.008097</td>\n",
              "      <td>0.006860</td>\n",
              "      <td>-0.002676</td>\n",
              "      <td>0.008654</td>\n",
              "      <td>0.017810</td>\n",
              "      <td>0.000872</td>\n",
              "      <td>0.002716</td>\n",
              "      <td>1.000000</td>\n",
              "    </tr>\n",
              "  </tbody>\n",
              "</table>\n",
              "</div>"
            ],
            "text/plain": [
              "            address      year       day  ...  neighbors    income     label\n",
              "address    1.000000  0.185803  0.017566  ...   0.008869 -0.001169  0.016943\n",
              "year       0.185803  1.000000 -0.040307  ...  -0.000876 -0.020535 -0.021367\n",
              "day        0.017566 -0.040307  1.000000  ...   0.000181  0.002628  0.008097\n",
              "length     0.000723  0.163101  0.011919  ...   0.031523  0.000488  0.006860\n",
              "weight     0.009506  0.011827  0.000864  ...   0.691963  0.069774 -0.002676\n",
              "count      0.044201  0.285415 -0.002538  ...   0.025441 -0.003635  0.008654\n",
              "looped     0.008970  0.113164  0.002566  ...   0.052826  0.002551  0.017810\n",
              "neighbors  0.008869 -0.000876  0.000181  ...   1.000000  0.138966  0.000872\n",
              "income    -0.001169 -0.020535  0.002628  ...   0.138966  1.000000  0.002716\n",
              "label      0.016943 -0.021367  0.008097  ...   0.000872  0.002716  1.000000\n",
              "\n",
              "[10 rows x 10 columns]"
            ]
          },
          "metadata": {
            "tags": []
          },
          "execution_count": 14
        }
      ]
    },
    {
      "cell_type": "code",
      "metadata": {
        "colab": {
          "base_uri": "https://localhost:8080/",
          "height": 613
        },
        "id": "AyRIAML_aiKU",
        "outputId": "5b897f8e-aff7-4a6e-b663-e1d591ae607b"
      },
      "source": [
        "matrix = np.triu(data_df.corr())\n",
        "plt.figure(figsize = (15,10))\n",
        "sns.heatmap(data_df.corr(), annot=True)"
      ],
      "execution_count": 15,
      "outputs": [
        {
          "output_type": "execute_result",
          "data": {
            "text/plain": [
              "<matplotlib.axes._subplots.AxesSubplot at 0x7fe88c861510>"
            ]
          },
          "metadata": {
            "tags": []
          },
          "execution_count": 15
        },
        {
          "output_type": "display_data",
          "data": {
            "image/png": "[encoded data removed]",
            "text/plain": [
              "<Figure size 1080x720 with 2 Axes>"
            ]
          },
          "metadata": {
            "tags": [],
            "needs_background": "light"
          }
        }
      ]
    },
    {
      "cell_type": "code",
      "metadata": {
        "id": "8l_FTZqWanFo"
      },
      "source": [
        "X = np.array(data_df.drop(['label'],1))\n",
        "y = np.array(data_df['label'])"
      ],
      "execution_count": 16,
      "outputs": []
    },
    {
      "cell_type": "code",
      "metadata": {
        "id": "JODssn4Oaq_n"
      },
      "source": [
        "X_train, X_test, y_train, y_test = train_test_split(X,y,test_size = 0.3,random_state = 2)"
      ],
      "execution_count": 17,
      "outputs": []
    },
    {
      "cell_type": "code",
      "metadata": {
        "colab": {
          "base_uri": "https://localhost:8080/"
        },
        "id": "eiTR552vbFmq",
        "outputId": "403ebb0a-bbe8-4e27-8d58-83aca8b8a0ba"
      },
      "source": [
        "X_train[1]"
      ],
      "execution_count": 18,
      "outputs": [
        {
          "output_type": "execute_result",
          "data": {
            "text/plain": [
              "array([1.21897900e+06, 2.01400000e+03, 7.10000000e+01, 1.44000000e+02,\n",
              "       6.25630431e-02, 1.42400000e+03, 9.94000000e+02, 2.00000000e+00,\n",
              "       3.60600000e+07])"
            ]
          },
          "metadata": {
            "tags": []
          },
          "execution_count": 18
        }
      ]
    },
    {
      "cell_type": "code",
      "metadata": {
        "colab": {
          "base_uri": "https://localhost:8080/"
        },
        "id": "waPE05L8avSf",
        "outputId": "b000211d-bd4a-4620-f32d-2ef1b941fb20"
      },
      "source": [
        "scaler = StandardScaler()\n",
        "scaler.fit(X_train)"
      ],
      "execution_count": 19,
      "outputs": [
        {
          "output_type": "execute_result",
          "data": {
            "text/plain": [
              "StandardScaler(copy=True, with_mean=True, with_std=True)"
            ]
          },
          "metadata": {
            "tags": []
          },
          "execution_count": 19
        }
      ]
    },
    {
      "cell_type": "code",
      "metadata": {
        "id": "skEeCo4Sa5Nv"
      },
      "source": [
        "X_train = scaler.transform(X_train)\n",
        "X_test = scaler.transform(X_test)"
      ],
      "execution_count": 20,
      "outputs": []
    },
    {
      "cell_type": "code",
      "metadata": {
        "id": "0K20KDHza99S"
      },
      "source": [
        "from sklearn.neighbors import KNeighborsClassifier\n",
        "classifier = KNeighborsClassifier(n_neighbors = 5)\n",
        "classifier.fit(X_train, y_train)"
      ],
      "execution_count": null,
      "outputs": []
    },
    {
      "cell_type": "code",
      "metadata": {
        "id": "nwp29AygboQa"
      },
      "source": [
        "y_pred = classifier.predict(X_test)"
      ],
      "execution_count": null,
      "outputs": []
    },
    {
      "cell_type": "code",
      "metadata": {
        "id": "i_1QTdC5dQBk"
      },
      "source": [
        "from sklearn import metrics\n",
        "from sklearn.metrics import classification_report, confusion_matrix\n",
        "print(classification_report(y_test, y_pred))\n",
        "print(confusion_matrix(y_test, y_pred))\n",
        "print(\"Accuracy:\",metrics.accuracy_score(y_test, y_pred))"
      ],
      "execution_count": null,
      "outputs": []
    },
    {
      "cell_type": "code",
      "metadata": {
        "id": "lqLa9XfZdTcf"
      },
      "source": [
        "from sklearn.neighbors import KNeighborsClassifier\n",
        "from sklearn import metrics\n",
        "error_rate = []\n",
        "\n",
        "# Might take some time\n",
        "for i in range(1,21):\n",
        "    \n",
        "    knn = KNeighborsClassifier(n_neighbors=i)\n",
        "    knn.fit(X_train,y_train)\n",
        "    pred_i = knn.predict(X_test)\n",
        "    error_rate.append(np.mean(pred_i != y_test))\n",
        "    print(\"When K=[\",i,\"] Accuracy is :\",metrics.accuracy_score(y_test, pred_i))\n",
        "print(error_rate)"
      ],
      "execution_count": null,
      "outputs": []
    },
    {
      "cell_type": "code",
      "metadata": {
        "id": "nWJ-NnXidWkg"
      },
      "source": [
        "plt.figure(figsize=(10,6))\n",
        "plt.plot(range(1,21),error_rate,color='blue', linestyle='dashed', marker='o',\n",
        "         markerfacecolor='red', markersize=10)\n",
        "plt.title('Error Rate vs. K Value')\n",
        "plt.xlabel('K')\n",
        "plt.ylabel('Error Rate')"
      ],
      "execution_count": null,
      "outputs": []
    }
  ]
}