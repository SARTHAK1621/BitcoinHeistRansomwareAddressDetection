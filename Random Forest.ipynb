{
 "cells": [
  {
   "cell_type": "code",
   "execution_count": 1,
   "id": "civil-engagement",
   "metadata": {},
   "outputs": [],
   "source": [
    "import numpy as np\n",
    "import pandas as pd\n",
    "import matplotlib.pyplot as plt\n",
    "import seaborn as sns\n",
    "from scipy import stats\n",
    "from sklearn.preprocessing import MinMaxScaler\n",
    "from sklearn import preprocessing, neighbors\n",
    "from sklearn.model_selection import train_test_split\n",
    "from sklearn.preprocessing import StandardScaler"
   ]
  },
  {
   "cell_type": "code",
   "execution_count": 2,
   "id": "funded-panama",
   "metadata": {},
   "outputs": [],
   "source": [
    "data_df =pd.read_csv('/home/sarthak/ML Hindi/BitcoinHeistData.csv')"
   ]
  },
  {
   "cell_type": "code",
   "execution_count": 3,
   "id": "familiar-agency",
   "metadata": {},
   "outputs": [
    {
     "data": {
      "text/html": [
       "<div>\n",
       "<style scoped>\n",
       "    .dataframe tbody tr th:only-of-type {\n",
       "        vertical-align: middle;\n",
       "    }\n",
       "\n",
       "    .dataframe tbody tr th {\n",
       "        vertical-align: top;\n",
       "    }\n",
       "\n",
       "    .dataframe thead th {\n",
       "        text-align: right;\n",
       "    }\n",
       "</style>\n",
       "<table border=\"1\" class=\"dataframe\">\n",
       "  <thead>\n",
       "    <tr style=\"text-align: right;\">\n",
       "      <th></th>\n",
       "      <th>address</th>\n",
       "      <th>year</th>\n",
       "      <th>day</th>\n",
       "      <th>length</th>\n",
       "      <th>weight</th>\n",
       "      <th>count</th>\n",
       "      <th>looped</th>\n",
       "      <th>neighbors</th>\n",
       "      <th>income</th>\n",
       "      <th>label</th>\n",
       "    </tr>\n",
       "  </thead>\n",
       "  <tbody>\n",
       "    <tr>\n",
       "      <th>0</th>\n",
       "      <td>111K8kZAEnJg245r2cM6y9zgJGHZtJPy6</td>\n",
       "      <td>2017</td>\n",
       "      <td>11</td>\n",
       "      <td>18</td>\n",
       "      <td>0.008333</td>\n",
       "      <td>1</td>\n",
       "      <td>0</td>\n",
       "      <td>2</td>\n",
       "      <td>100050000.0</td>\n",
       "      <td>princetonCerber</td>\n",
       "    </tr>\n",
       "    <tr>\n",
       "      <th>1</th>\n",
       "      <td>1123pJv8jzeFQaCV4w644pzQJzVWay2zcA</td>\n",
       "      <td>2016</td>\n",
       "      <td>132</td>\n",
       "      <td>44</td>\n",
       "      <td>0.000244</td>\n",
       "      <td>1</td>\n",
       "      <td>0</td>\n",
       "      <td>1</td>\n",
       "      <td>100000000.0</td>\n",
       "      <td>princetonLocky</td>\n",
       "    </tr>\n",
       "    <tr>\n",
       "      <th>2</th>\n",
       "      <td>112536im7hy6wtKbpH1qYDWtTyMRAcA2p7</td>\n",
       "      <td>2016</td>\n",
       "      <td>246</td>\n",
       "      <td>0</td>\n",
       "      <td>1.000000</td>\n",
       "      <td>1</td>\n",
       "      <td>0</td>\n",
       "      <td>2</td>\n",
       "      <td>200000000.0</td>\n",
       "      <td>princetonCerber</td>\n",
       "    </tr>\n",
       "    <tr>\n",
       "      <th>3</th>\n",
       "      <td>1126eDRw2wqSkWosjTCre8cjjQW8sSeWH7</td>\n",
       "      <td>2016</td>\n",
       "      <td>322</td>\n",
       "      <td>72</td>\n",
       "      <td>0.003906</td>\n",
       "      <td>1</td>\n",
       "      <td>0</td>\n",
       "      <td>2</td>\n",
       "      <td>71200000.0</td>\n",
       "      <td>princetonCerber</td>\n",
       "    </tr>\n",
       "    <tr>\n",
       "      <th>4</th>\n",
       "      <td>1129TSjKtx65E35GiUo4AYVeyo48twbrGX</td>\n",
       "      <td>2016</td>\n",
       "      <td>238</td>\n",
       "      <td>144</td>\n",
       "      <td>0.072848</td>\n",
       "      <td>456</td>\n",
       "      <td>0</td>\n",
       "      <td>1</td>\n",
       "      <td>200000000.0</td>\n",
       "      <td>princetonLocky</td>\n",
       "    </tr>\n",
       "  </tbody>\n",
       "</table>\n",
       "</div>"
      ],
      "text/plain": [
       "                              address  year  day  length    weight  count  \\\n",
       "0   111K8kZAEnJg245r2cM6y9zgJGHZtJPy6  2017   11      18  0.008333      1   \n",
       "1  1123pJv8jzeFQaCV4w644pzQJzVWay2zcA  2016  132      44  0.000244      1   \n",
       "2  112536im7hy6wtKbpH1qYDWtTyMRAcA2p7  2016  246       0  1.000000      1   \n",
       "3  1126eDRw2wqSkWosjTCre8cjjQW8sSeWH7  2016  322      72  0.003906      1   \n",
       "4  1129TSjKtx65E35GiUo4AYVeyo48twbrGX  2016  238     144  0.072848    456   \n",
       "\n",
       "   looped  neighbors       income            label  \n",
       "0       0          2  100050000.0  princetonCerber  \n",
       "1       0          1  100000000.0   princetonLocky  \n",
       "2       0          2  200000000.0  princetonCerber  \n",
       "3       0          2   71200000.0  princetonCerber  \n",
       "4       0          1  200000000.0   princetonLocky  "
      ]
     },
     "execution_count": 3,
     "metadata": {},
     "output_type": "execute_result"
    }
   ],
   "source": [
    "data_df.head()"
   ]
  },
  {
   "cell_type": "code",
   "execution_count": null,
   "id": "weird-forum",
   "metadata": {},
   "outputs": [],
   "source": [
    "len(data_df['label'].unique())"
   ]
  },
  {
   "cell_type": "code",
   "execution_count": null,
   "id": "relative-focus",
   "metadata": {},
   "outputs": [],
   "source": [
    "data_df.shape"
   ]
  },
  {
   "cell_type": "code",
   "execution_count": null,
   "id": "soviet-speaker",
   "metadata": {},
   "outputs": [],
   "source": [
    "data_df.describe()"
   ]
  },
  {
   "cell_type": "code",
   "execution_count": null,
   "id": "detailed-footage",
   "metadata": {},
   "outputs": [],
   "source": [
    "data_df.corr()"
   ]
  },
  {
   "cell_type": "code",
   "execution_count": null,
   "id": "palestinian-racing",
   "metadata": {},
   "outputs": [],
   "source": [
    "data_df.dtypes"
   ]
  },
  {
   "cell_type": "code",
   "execution_count": null,
   "id": "frozen-criminal",
   "metadata": {},
   "outputs": [],
   "source": [
    "data_df['label'].unique()"
   ]
  },
  {
   "cell_type": "code",
   "execution_count": null,
   "id": "explicit-dutch",
   "metadata": {},
   "outputs": [],
   "source": [
    "ransomware_list = ['princetonCerber','princetonLocky','montrealCryptoLocker',\n",
    "                    'montrealCryptXXX','montrealWannaCry','montrealDMALockerv3', 'montrealCryptoTorLocker2015',\n",
    "                    'montrealSamSam', 'montrealFlyper', 'montrealNoobCrypt','montrealDMALocker', 'montrealGlobe',\n",
    "                    'montrealEDA2','montrealVenusLocker', 'montrealXTPLocker','montrealGlobev3', 'montrealJigSaw',\n",
    "                    'montrealXLockerv5.0', 'montrealXLocker', 'montrealRazy','montrealCryptConsole', 'montrealGlobeImposter',\n",
    "                    'montrealSam','montrealComradeCircle', 'montrealAPT',\n",
    "                   'paduaCryptoWall','paduaKeRanger','paduaJigsaw']\n",
    "data_df.replace(ransomware_list,'ransomeware',inplace = True)"
   ]
  },
  {
   "cell_type": "code",
   "execution_count": null,
   "id": "nasty-facial",
   "metadata": {},
   "outputs": [],
   "source": [
    "data_df.replace('ransomeware',1,inplace = True)\n",
    "data_df.replace('white',2,inplace = True)\n",
    "data_df"
   ]
  },
  {
   "cell_type": "code",
   "execution_count": null,
   "id": "protected-accountability",
   "metadata": {},
   "outputs": [],
   "source": [
    "#data_df.drop(['address'],1,inplace = True)\n",
    "label_encoder = preprocessing.LabelEncoder()\n",
    "data_df['address']=label_encoder.fit_transform(data_df['address'])\n",
    "data_df.head()"
   ]
  },
  {
   "cell_type": "code",
   "execution_count": null,
   "id": "static-pursuit",
   "metadata": {},
   "outputs": [],
   "source": [
    "data_df.head()"
   ]
  },
  {
   "cell_type": "code",
   "execution_count": null,
   "id": "solar-profit",
   "metadata": {},
   "outputs": [],
   "source": [
    "data_df.corr()"
   ]
  },
  {
   "cell_type": "code",
   "execution_count": null,
   "id": "lyric-focus",
   "metadata": {},
   "outputs": [],
   "source": [
    "matrix = np.triu(data_df.corr())\n",
    "plt.figure(figsize = (15,10))\n",
    "sns.heatmap(data_df.corr(), annot=True)"
   ]
  },
  {
   "cell_type": "code",
   "execution_count": null,
   "id": "terminal-zimbabwe",
   "metadata": {},
   "outputs": [],
   "source": [
    "minmax =MinMaxScaler()\n",
    "data_minmax_df = minmax.fit_transform(data_df)"
   ]
  },
  {
   "cell_type": "code",
   "execution_count": null,
   "id": "restricted-garage",
   "metadata": {},
   "outputs": [],
   "source": [
    "df_minmax = pd.DataFrame(data_df,columns =['year','day','length','weight','count','looped','neighbors','income','label'])\n",
    "df_minmax"
   ]
  },
  {
   "cell_type": "code",
   "execution_count": null,
   "id": "extraordinary-tuning",
   "metadata": {},
   "outputs": [],
   "source": [
    "df_minmax.describe()"
   ]
  },
  {
   "cell_type": "code",
   "execution_count": null,
   "id": "recent-constant",
   "metadata": {},
   "outputs": [],
   "source": [
    "df_zscore=pd.DataFrame(stats.zscore(df_minmax))"
   ]
  },
  {
   "cell_type": "code",
   "execution_count": null,
   "id": "neutral-insight",
   "metadata": {},
   "outputs": [],
   "source": [
    "df_zscore"
   ]
  },
  {
   "cell_type": "code",
   "execution_count": null,
   "id": "chubby-content",
   "metadata": {},
   "outputs": [],
   "source": [
    "matrix = np.triu(df_zscore.corr())\n",
    "plt.figure(figsize = (15,10))\n",
    "sns.heatmap(df_zscore.corr(), annot=True)"
   ]
  },
  {
   "cell_type": "code",
   "execution_count": null,
   "id": "private-sally",
   "metadata": {},
   "outputs": [],
   "source": [
    "X = np.array(data_df.drop(['label'],1))\n",
    "y = np.array(data_df['label'])"
   ]
  },
  {
   "cell_type": "code",
   "execution_count": null,
   "id": "allied-graphics",
   "metadata": {},
   "outputs": [],
   "source": [
    "X_train, X_test, y_train, y_test = train_test_split(X,y,test_size = 0.2,random_state = 2)"
   ]
  },
  {
   "cell_type": "code",
   "execution_count": null,
   "id": "southeast-conference",
   "metadata": {},
   "outputs": [],
   "source": [
    "scaler = StandardScaler()\n",
    "scaler.fit(X_train)\n",
    "X_train = scaler.transform(X_train)\n",
    "X_test = scaler.transform(X_test)"
   ]
  },
  {
   "cell_type": "code",
   "execution_count": null,
   "id": "appointed-bishop",
   "metadata": {},
   "outputs": [],
   "source": [
    "X=data_df.drop('label',axis=1)\n",
    "y=data_df['label']"
   ]
  },
  {
   "cell_type": "code",
   "execution_count": null,
   "id": "fitted-computer",
   "metadata": {},
   "outputs": [],
   "source": [
    "X_train,X_test,y_train,y_test=train_test_split(X,y,test_size=0.2,random_state=2)"
   ]
  },
  {
   "cell_type": "code",
   "execution_count": null,
   "id": "collected-extension",
   "metadata": {},
   "outputs": [],
   "source": [
    "from sklearn.ensemble import RandomForestClassifier"
   ]
  },
  {
   "cell_type": "code",
   "execution_count": null,
   "id": "related-product",
   "metadata": {},
   "outputs": [],
   "source": [
    "rf=RandomForestClassifier(max_depth=3,random_state=2)\n",
    "rf=rf.fit(X_train,y_train)\n",
    "rf.score(X_test,y_test)"
   ]
  },
  {
   "cell_type": "code",
   "execution_count": null,
   "id": "stretch-fortune",
   "metadata": {},
   "outputs": [],
   "source": []
  }
 ],
 "metadata": {
  "kernelspec": {
   "display_name": "Python 3",
   "language": "python",
   "name": "python3"
  },
  "language_info": {
   "codemirror_mode": {
    "name": "ipython",
    "version": 3
   },
   "file_extension": ".py",
   "mimetype": "text/x-python",
   "name": "python",
   "nbconvert_exporter": "python",
   "pygments_lexer": "ipython3",
   "version": "3.7.9"
  }
 },
 "nbformat": 4,
 "nbformat_minor": 5
}
