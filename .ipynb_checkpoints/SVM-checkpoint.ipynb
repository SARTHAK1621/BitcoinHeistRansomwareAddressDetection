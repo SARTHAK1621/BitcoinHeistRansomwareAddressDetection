{
 "cells": [
  {
   "cell_type": "code",
   "execution_count": null,
   "id": "isolated-shannon",
   "metadata": {},
   "outputs": [],
   "source": [
    "import numpy as np\n",
    "import pandas as pd\n",
    "import matplotlib.pyplot as plt\n",
    "import seaborn as sns\n",
    "from scipy import stats\n",
    "from sklearn.preprocessing import MinMaxScaler\n",
    "from sklearn import preprocessing , neighbors\n",
    "from sklearn.model_selection import train_test_split\n",
    "from sklearn.preprocessing import StandardScaler\n",
    "from sklearn import preprocessing"
   ]
  },
  {
   "cell_type": "code",
   "execution_count": null,
   "id": "vocational-repair",
   "metadata": {},
   "outputs": [],
   "source": [
    "data_df = pd.read_csv(\"BitcoinHeistData.csv\")"
   ]
  },
  {
   "cell_type": "code",
   "execution_count": null,
   "id": "different-circumstances",
   "metadata": {},
   "outputs": [],
   "source": [
    "data_df.head()"
   ]
  },
  {
   "cell_type": "code",
   "execution_count": null,
   "id": "cross-dream",
   "metadata": {},
   "outputs": [],
   "source": [
    "ransomware_list = ['princetonCerber','princetonLocky','montrealCryptoLocker',\n",
    "                    'montrealCryptXXX','montrealWannaCry','montrealDMALockerv3', 'montrealCryptoTorLocker2015',\n",
    "                    'montrealSamSam', 'montrealFlyper', 'montrealNoobCrypt','montrealDMALocker', 'montrealGlobe',\n",
    "                    'montrealEDA2','montrealVenusLocker', 'montrealXTPLocker','montrealGlobev3', 'montrealJigSaw',\n",
    "                    'montrealXLockerv5.0', 'montrealXLocker', 'montrealRazy','montrealCryptConsole', 'montrealGlobeImposter',\n",
    "                    'montrealSam','montrealComradeCircle', 'montrealAPT',\n",
    "                   'paduaCryptoWall','paduaKeRanger','paduaJigsaw']\n",
    "data_df.replace(ransomware_list,'ransomeware',inplace = True)\n"
   ]
  },
  {
   "cell_type": "code",
   "execution_count": null,
   "id": "assured-liberal",
   "metadata": {},
   "outputs": [],
   "source": [
    "data_df.replace('ransomeware',1,inplace = True)\n",
    "data_df.replace('white',2,inplace = True)\n",
    "data_df"
   ]
  },
  {
   "cell_type": "code",
   "execution_count": null,
   "id": "approved-instrumentation",
   "metadata": {},
   "outputs": [],
   "source": [
    "from sklearn.model_selection import train_test_split\n",
    "training_set, test_set = train_test_split(data_df, test_size = 0.2, random_state = 2)"
   ]
  },
  {
   "cell_type": "code",
   "execution_count": null,
   "id": "sufficient-camcorder",
   "metadata": {},
   "outputs": [],
   "source": [
    "X_train = training_set.drop(['label'],1).values\n",
    "Y_train = training_set['label'].values\n",
    "X_test = test_set.drop(['label'],1).values\n",
    "Y_test = test_set['label'].values"
   ]
  },
  {
   "cell_type": "code",
   "execution_count": null,
   "id": "rubber-probe",
   "metadata": {},
   "outputs": [],
   "source": [
    "from sklearn.svm import SVC\n",
    "classifier = SVC(kernel='rbf', random_state = 2)\n",
    "classifier.fit(X_train,Y_train)"
   ]
  },
  {
   "cell_type": "code",
   "execution_count": null,
   "id": "falling-bedroom",
   "metadata": {},
   "outputs": [],
   "source": [
    "Y_pred = classifier.predict(X_test)"
   ]
  },
  {
   "cell_type": "code",
   "execution_count": null,
   "id": "collectible-hamilton",
   "metadata": {},
   "outputs": [],
   "source": [
    "test_set[\"Predictions\"] = Y_pred"
   ]
  },
  {
   "cell_type": "code",
   "execution_count": null,
   "id": "stunning-government",
   "metadata": {},
   "outputs": [],
   "source": [
    "from sklearn.metrics import confusion_matrix\n",
    "cm = confusion_matrix(Y_test,Y_pred)\n",
    "accuracy = float(cm.diagonal().sum())/len(Y_test)\n",
    "print(\"\\nAccuracy Of SVM For The Given Dataset : \", accuracy)"
   ]
  },
  {
   "cell_type": "code",
   "execution_count": null,
   "id": "latin-infrastructure",
   "metadata": {},
   "outputs": [],
   "source": []
  },
  {
   "cell_type": "code",
   "execution_count": null,
   "id": "simple-listening",
   "metadata": {},
   "outputs": [],
   "source": []
  },
  {
   "cell_type": "code",
   "execution_count": null,
   "id": "coupled-undergraduate",
   "metadata": {},
   "outputs": [],
   "source": []
  }
 ],
 "metadata": {
  "kernelspec": {
   "display_name": "Python 3",
   "language": "python",
   "name": "python3"
  },
  "language_info": {
   "codemirror_mode": {
    "name": "ipython",
    "version": 3
   },
   "file_extension": ".py",
   "mimetype": "text/x-python",
   "name": "python",
   "nbconvert_exporter": "python",
   "pygments_lexer": "ipython3",
   "version": "3.7.9"
  }
 },
 "nbformat": 4,
 "nbformat_minor": 5
}
