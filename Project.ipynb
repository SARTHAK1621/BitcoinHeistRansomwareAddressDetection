{
 "cells": [
  {
   "cell_type": "markdown",
<<<<<<< HEAD
   "id": "handed-stanley",
=======
>>>>>>> accba329395c2ae1c2bfb241b12f099c0c30e3ae
   "metadata": {},
   "source": [
    "# Bitcoin Ransomware Address Detection"
   ]
  },
  {
   "cell_type": "code",
   "execution_count": 1,
<<<<<<< HEAD
   "id": "theoretical-solomon",
=======
>>>>>>> accba329395c2ae1c2bfb241b12f099c0c30e3ae
   "metadata": {},
   "outputs": [],
   "source": [
    "import numpy as np\n",
    "import pandas as pd\n",
    "import matplotlib.pyplot as plt\n",
    "import seaborn as sns\n",
    "from scipy import stats\n",
    "from sklearn.preprocessing import MinMaxScaler\n",
    "from sklearn import preprocessing, neighbors\n",
    "from sklearn.model_selection import train_test_split\n",
    "from sklearn.preprocessing import StandardScaler"
   ]
  },
  {
   "cell_type": "code",
   "execution_count": 2,
<<<<<<< HEAD
   "id": "revolutionary-august",
=======
>>>>>>> accba329395c2ae1c2bfb241b12f099c0c30e3ae
   "metadata": {},
   "outputs": [],
   "source": [
    "data_df =pd.read_csv('/home/sarthak/ML Hindi/BitcoinHeistData.csv')"
   ]
  },
  {
   "cell_type": "code",
   "execution_count": 3,
<<<<<<< HEAD
   "id": "dutch-collectible",
=======
>>>>>>> accba329395c2ae1c2bfb241b12f099c0c30e3ae
   "metadata": {},
   "outputs": [
    {
     "data": {
      "text/html": [
       "<div>\n",
       "<style scoped>\n",
       "    .dataframe tbody tr th:only-of-type {\n",
       "        vertical-align: middle;\n",
       "    }\n",
       "\n",
       "    .dataframe tbody tr th {\n",
       "        vertical-align: top;\n",
       "    }\n",
       "\n",
       "    .dataframe thead th {\n",
       "        text-align: right;\n",
       "    }\n",
       "</style>\n",
       "<table border=\"1\" class=\"dataframe\">\n",
       "  <thead>\n",
       "    <tr style=\"text-align: right;\">\n",
       "      <th></th>\n",
       "      <th>address</th>\n",
       "      <th>year</th>\n",
       "      <th>day</th>\n",
       "      <th>length</th>\n",
       "      <th>weight</th>\n",
       "      <th>count</th>\n",
       "      <th>looped</th>\n",
       "      <th>neighbors</th>\n",
       "      <th>income</th>\n",
       "      <th>label</th>\n",
       "    </tr>\n",
       "  </thead>\n",
       "  <tbody>\n",
       "    <tr>\n",
       "      <th>0</th>\n",
       "      <td>111K8kZAEnJg245r2cM6y9zgJGHZtJPy6</td>\n",
       "      <td>2017</td>\n",
       "      <td>11</td>\n",
       "      <td>18</td>\n",
       "      <td>0.008333</td>\n",
       "      <td>1</td>\n",
       "      <td>0</td>\n",
       "      <td>2</td>\n",
       "      <td>100050000.0</td>\n",
       "      <td>princetonCerber</td>\n",
       "    </tr>\n",
       "    <tr>\n",
       "      <th>1</th>\n",
       "      <td>1123pJv8jzeFQaCV4w644pzQJzVWay2zcA</td>\n",
       "      <td>2016</td>\n",
       "      <td>132</td>\n",
       "      <td>44</td>\n",
       "      <td>0.000244</td>\n",
       "      <td>1</td>\n",
       "      <td>0</td>\n",
       "      <td>1</td>\n",
       "      <td>100000000.0</td>\n",
       "      <td>princetonLocky</td>\n",
       "    </tr>\n",
       "    <tr>\n",
       "      <th>2</th>\n",
       "      <td>112536im7hy6wtKbpH1qYDWtTyMRAcA2p7</td>\n",
       "      <td>2016</td>\n",
       "      <td>246</td>\n",
       "      <td>0</td>\n",
       "      <td>1.000000</td>\n",
       "      <td>1</td>\n",
       "      <td>0</td>\n",
       "      <td>2</td>\n",
       "      <td>200000000.0</td>\n",
       "      <td>princetonCerber</td>\n",
       "    </tr>\n",
       "    <tr>\n",
       "      <th>3</th>\n",
       "      <td>1126eDRw2wqSkWosjTCre8cjjQW8sSeWH7</td>\n",
       "      <td>2016</td>\n",
       "      <td>322</td>\n",
       "      <td>72</td>\n",
       "      <td>0.003906</td>\n",
       "      <td>1</td>\n",
       "      <td>0</td>\n",
       "      <td>2</td>\n",
       "      <td>71200000.0</td>\n",
       "      <td>princetonCerber</td>\n",
       "    </tr>\n",
       "    <tr>\n",
       "      <th>4</th>\n",
       "      <td>1129TSjKtx65E35GiUo4AYVeyo48twbrGX</td>\n",
       "      <td>2016</td>\n",
       "      <td>238</td>\n",
       "      <td>144</td>\n",
       "      <td>0.072848</td>\n",
       "      <td>456</td>\n",
       "      <td>0</td>\n",
       "      <td>1</td>\n",
       "      <td>200000000.0</td>\n",
       "      <td>princetonLocky</td>\n",
       "    </tr>\n",
       "  </tbody>\n",
       "</table>\n",
       "</div>"
      ],
      "text/plain": [
       "                              address  year  day  length    weight  count  \\\n",
       "0   111K8kZAEnJg245r2cM6y9zgJGHZtJPy6  2017   11      18  0.008333      1   \n",
       "1  1123pJv8jzeFQaCV4w644pzQJzVWay2zcA  2016  132      44  0.000244      1   \n",
       "2  112536im7hy6wtKbpH1qYDWtTyMRAcA2p7  2016  246       0  1.000000      1   \n",
       "3  1126eDRw2wqSkWosjTCre8cjjQW8sSeWH7  2016  322      72  0.003906      1   \n",
       "4  1129TSjKtx65E35GiUo4AYVeyo48twbrGX  2016  238     144  0.072848    456   \n",
       "\n",
       "   looped  neighbors       income            label  \n",
       "0       0          2  100050000.0  princetonCerber  \n",
       "1       0          1  100000000.0   princetonLocky  \n",
       "2       0          2  200000000.0  princetonCerber  \n",
       "3       0          2   71200000.0  princetonCerber  \n",
       "4       0          1  200000000.0   princetonLocky  "
      ]
     },
     "execution_count": 3,
     "metadata": {},
     "output_type": "execute_result"
    }
   ],
   "source": [
    "data_df.head()"
   ]
  },
  {
   "cell_type": "code",
   "execution_count": 4,
<<<<<<< HEAD
   "id": "meaningful-darkness",
=======
>>>>>>> accba329395c2ae1c2bfb241b12f099c0c30e3ae
   "metadata": {},
   "outputs": [
    {
     "data": {
      "text/plain": [
       "29"
      ]
     },
     "execution_count": 4,
     "metadata": {},
     "output_type": "execute_result"
    }
   ],
   "source": [
    "len(data_df['label'].unique())"
   ]
  },
  {
   "cell_type": "code",
   "execution_count": 5,
<<<<<<< HEAD
   "id": "structured-mobile",
=======
>>>>>>> accba329395c2ae1c2bfb241b12f099c0c30e3ae
   "metadata": {},
   "outputs": [
    {
     "data": {
      "text/plain": [
       "(2916697, 10)"
      ]
     },
     "execution_count": 5,
     "metadata": {},
     "output_type": "execute_result"
    }
   ],
   "source": [
    "data_df.shape"
   ]
  },
  {
   "cell_type": "code",
   "execution_count": 6,
<<<<<<< HEAD
   "id": "stunning-authorization",
=======
>>>>>>> accba329395c2ae1c2bfb241b12f099c0c30e3ae
   "metadata": {},
   "outputs": [
    {
     "data": {
      "text/html": [
       "<div>\n",
       "<style scoped>\n",
       "    .dataframe tbody tr th:only-of-type {\n",
       "        vertical-align: middle;\n",
       "    }\n",
       "\n",
       "    .dataframe tbody tr th {\n",
       "        vertical-align: top;\n",
       "    }\n",
       "\n",
       "    .dataframe thead th {\n",
       "        text-align: right;\n",
       "    }\n",
       "</style>\n",
       "<table border=\"1\" class=\"dataframe\">\n",
       "  <thead>\n",
       "    <tr style=\"text-align: right;\">\n",
       "      <th></th>\n",
       "      <th>year</th>\n",
       "      <th>day</th>\n",
       "      <th>length</th>\n",
       "      <th>weight</th>\n",
       "      <th>count</th>\n",
       "      <th>looped</th>\n",
       "      <th>neighbors</th>\n",
       "      <th>income</th>\n",
       "    </tr>\n",
       "  </thead>\n",
       "  <tbody>\n",
       "    <tr>\n",
       "      <th>count</th>\n",
       "      <td>2.916697e+06</td>\n",
       "      <td>2.916697e+06</td>\n",
       "      <td>2.916697e+06</td>\n",
       "      <td>2.916697e+06</td>\n",
       "      <td>2.916697e+06</td>\n",
       "      <td>2.916697e+06</td>\n",
       "      <td>2.916697e+06</td>\n",
       "      <td>2.916697e+06</td>\n",
       "    </tr>\n",
       "    <tr>\n",
       "      <th>mean</th>\n",
       "      <td>2.014475e+03</td>\n",
       "      <td>1.814572e+02</td>\n",
       "      <td>4.500859e+01</td>\n",
       "      <td>5.455192e-01</td>\n",
       "      <td>7.216446e+02</td>\n",
       "      <td>2.385067e+02</td>\n",
       "      <td>2.206516e+00</td>\n",
       "      <td>4.464889e+09</td>\n",
       "    </tr>\n",
       "    <tr>\n",
       "      <th>std</th>\n",
       "      <td>2.257398e+00</td>\n",
       "      <td>1.040118e+02</td>\n",
       "      <td>5.898236e+01</td>\n",
       "      <td>3.674255e+00</td>\n",
       "      <td>1.689676e+03</td>\n",
       "      <td>9.663217e+02</td>\n",
       "      <td>1.791877e+01</td>\n",
       "      <td>1.626860e+11</td>\n",
       "    </tr>\n",
       "    <tr>\n",
       "      <th>min</th>\n",
       "      <td>2.011000e+03</td>\n",
       "      <td>1.000000e+00</td>\n",
       "      <td>0.000000e+00</td>\n",
       "      <td>3.606469e-94</td>\n",
       "      <td>1.000000e+00</td>\n",
       "      <td>0.000000e+00</td>\n",
       "      <td>1.000000e+00</td>\n",
       "      <td>3.000000e+07</td>\n",
       "    </tr>\n",
       "    <tr>\n",
       "      <th>25%</th>\n",
       "      <td>2.013000e+03</td>\n",
       "      <td>9.200000e+01</td>\n",
       "      <td>2.000000e+00</td>\n",
       "      <td>2.148438e-02</td>\n",
       "      <td>1.000000e+00</td>\n",
       "      <td>0.000000e+00</td>\n",
       "      <td>1.000000e+00</td>\n",
       "      <td>7.428559e+07</td>\n",
       "    </tr>\n",
       "    <tr>\n",
       "      <th>50%</th>\n",
       "      <td>2.014000e+03</td>\n",
       "      <td>1.810000e+02</td>\n",
       "      <td>8.000000e+00</td>\n",
       "      <td>2.500000e-01</td>\n",
       "      <td>1.000000e+00</td>\n",
       "      <td>0.000000e+00</td>\n",
       "      <td>2.000000e+00</td>\n",
       "      <td>1.999985e+08</td>\n",
       "    </tr>\n",
       "    <tr>\n",
       "      <th>75%</th>\n",
       "      <td>2.016000e+03</td>\n",
       "      <td>2.710000e+02</td>\n",
       "      <td>1.080000e+02</td>\n",
       "      <td>8.819482e-01</td>\n",
       "      <td>5.600000e+01</td>\n",
       "      <td>0.000000e+00</td>\n",
       "      <td>2.000000e+00</td>\n",
       "      <td>9.940000e+08</td>\n",
       "    </tr>\n",
       "    <tr>\n",
       "      <th>max</th>\n",
       "      <td>2.018000e+03</td>\n",
       "      <td>3.650000e+02</td>\n",
       "      <td>1.440000e+02</td>\n",
       "      <td>1.943749e+03</td>\n",
       "      <td>1.449700e+04</td>\n",
       "      <td>1.449600e+04</td>\n",
       "      <td>1.292000e+04</td>\n",
       "      <td>4.996440e+13</td>\n",
       "    </tr>\n",
       "  </tbody>\n",
       "</table>\n",
       "</div>"
      ],
      "text/plain": [
       "               year           day        length        weight         count  \\\n",
       "count  2.916697e+06  2.916697e+06  2.916697e+06  2.916697e+06  2.916697e+06   \n",
       "mean   2.014475e+03  1.814572e+02  4.500859e+01  5.455192e-01  7.216446e+02   \n",
       "std    2.257398e+00  1.040118e+02  5.898236e+01  3.674255e+00  1.689676e+03   \n",
       "min    2.011000e+03  1.000000e+00  0.000000e+00  3.606469e-94  1.000000e+00   \n",
       "25%    2.013000e+03  9.200000e+01  2.000000e+00  2.148438e-02  1.000000e+00   \n",
       "50%    2.014000e+03  1.810000e+02  8.000000e+00  2.500000e-01  1.000000e+00   \n",
       "75%    2.016000e+03  2.710000e+02  1.080000e+02  8.819482e-01  5.600000e+01   \n",
       "max    2.018000e+03  3.650000e+02  1.440000e+02  1.943749e+03  1.449700e+04   \n",
       "\n",
       "             looped     neighbors        income  \n",
       "count  2.916697e+06  2.916697e+06  2.916697e+06  \n",
       "mean   2.385067e+02  2.206516e+00  4.464889e+09  \n",
       "std    9.663217e+02  1.791877e+01  1.626860e+11  \n",
       "min    0.000000e+00  1.000000e+00  3.000000e+07  \n",
       "25%    0.000000e+00  1.000000e+00  7.428559e+07  \n",
       "50%    0.000000e+00  2.000000e+00  1.999985e+08  \n",
       "75%    0.000000e+00  2.000000e+00  9.940000e+08  \n",
       "max    1.449600e+04  1.292000e+04  4.996440e+13  "
      ]
     },
     "execution_count": 6,
     "metadata": {},
     "output_type": "execute_result"
    }
   ],
   "source": [
    "data_df.describe()"
   ]
  },
  {
   "cell_type": "code",
   "execution_count": 7,
<<<<<<< HEAD
   "id": "faced-assembly",
=======
>>>>>>> accba329395c2ae1c2bfb241b12f099c0c30e3ae
   "metadata": {},
   "outputs": [
    {
     "data": {
      "text/html": [
       "<div>\n",
       "<style scoped>\n",
       "    .dataframe tbody tr th:only-of-type {\n",
       "        vertical-align: middle;\n",
       "    }\n",
       "\n",
       "    .dataframe tbody tr th {\n",
       "        vertical-align: top;\n",
       "    }\n",
       "\n",
       "    .dataframe thead th {\n",
       "        text-align: right;\n",
       "    }\n",
       "</style>\n",
       "<table border=\"1\" class=\"dataframe\">\n",
       "  <thead>\n",
       "    <tr style=\"text-align: right;\">\n",
       "      <th></th>\n",
       "      <th>year</th>\n",
       "      <th>day</th>\n",
       "      <th>length</th>\n",
       "      <th>weight</th>\n",
       "      <th>count</th>\n",
       "      <th>looped</th>\n",
       "      <th>neighbors</th>\n",
       "      <th>income</th>\n",
       "    </tr>\n",
       "  </thead>\n",
       "  <tbody>\n",
       "    <tr>\n",
       "      <th>year</th>\n",
       "      <td>1.000000</td>\n",
       "      <td>-0.040307</td>\n",
       "      <td>0.163101</td>\n",
       "      <td>0.011827</td>\n",
       "      <td>0.285415</td>\n",
       "      <td>0.113164</td>\n",
       "      <td>-0.000876</td>\n",
       "      <td>-0.020535</td>\n",
       "    </tr>\n",
       "    <tr>\n",
       "      <th>day</th>\n",
       "      <td>-0.040307</td>\n",
       "      <td>1.000000</td>\n",
       "      <td>0.011919</td>\n",
       "      <td>0.000864</td>\n",
       "      <td>-0.002538</td>\n",
       "      <td>0.002566</td>\n",
       "      <td>0.000181</td>\n",
       "      <td>0.002628</td>\n",
       "    </tr>\n",
       "    <tr>\n",
       "      <th>length</th>\n",
       "      <td>0.163101</td>\n",
       "      <td>0.011919</td>\n",
       "      <td>1.000000</td>\n",
       "      <td>0.000228</td>\n",
       "      <td>0.703467</td>\n",
       "      <td>0.411609</td>\n",
       "      <td>0.031523</td>\n",
       "      <td>0.000488</td>\n",
       "    </tr>\n",
       "    <tr>\n",
       "      <th>weight</th>\n",
       "      <td>0.011827</td>\n",
       "      <td>0.000864</td>\n",
       "      <td>0.000228</td>\n",
       "      <td>1.000000</td>\n",
       "      <td>0.022313</td>\n",
       "      <td>0.061646</td>\n",
       "      <td>0.691963</td>\n",
       "      <td>0.069774</td>\n",
       "    </tr>\n",
       "    <tr>\n",
       "      <th>count</th>\n",
       "      <td>0.285415</td>\n",
       "      <td>-0.002538</td>\n",
       "      <td>0.703467</td>\n",
       "      <td>0.022313</td>\n",
       "      <td>1.000000</td>\n",
       "      <td>0.560370</td>\n",
       "      <td>0.025441</td>\n",
       "      <td>-0.003635</td>\n",
       "    </tr>\n",
       "    <tr>\n",
       "      <th>looped</th>\n",
       "      <td>0.113164</td>\n",
       "      <td>0.002566</td>\n",
       "      <td>0.411609</td>\n",
       "      <td>0.061646</td>\n",
       "      <td>0.560370</td>\n",
       "      <td>1.000000</td>\n",
       "      <td>0.052826</td>\n",
       "      <td>0.002551</td>\n",
       "    </tr>\n",
       "    <tr>\n",
       "      <th>neighbors</th>\n",
       "      <td>-0.000876</td>\n",
       "      <td>0.000181</td>\n",
       "      <td>0.031523</td>\n",
       "      <td>0.691963</td>\n",
       "      <td>0.025441</td>\n",
       "      <td>0.052826</td>\n",
       "      <td>1.000000</td>\n",
       "      <td>0.138966</td>\n",
       "    </tr>\n",
       "    <tr>\n",
       "      <th>income</th>\n",
       "      <td>-0.020535</td>\n",
       "      <td>0.002628</td>\n",
       "      <td>0.000488</td>\n",
       "      <td>0.069774</td>\n",
       "      <td>-0.003635</td>\n",
       "      <td>0.002551</td>\n",
       "      <td>0.138966</td>\n",
       "      <td>1.000000</td>\n",
       "    </tr>\n",
       "  </tbody>\n",
       "</table>\n",
       "</div>"
      ],
      "text/plain": [
       "               year       day    length    weight     count    looped  \\\n",
       "year       1.000000 -0.040307  0.163101  0.011827  0.285415  0.113164   \n",
       "day       -0.040307  1.000000  0.011919  0.000864 -0.002538  0.002566   \n",
       "length     0.163101  0.011919  1.000000  0.000228  0.703467  0.411609   \n",
       "weight     0.011827  0.000864  0.000228  1.000000  0.022313  0.061646   \n",
       "count      0.285415 -0.002538  0.703467  0.022313  1.000000  0.560370   \n",
       "looped     0.113164  0.002566  0.411609  0.061646  0.560370  1.000000   \n",
       "neighbors -0.000876  0.000181  0.031523  0.691963  0.025441  0.052826   \n",
       "income    -0.020535  0.002628  0.000488  0.069774 -0.003635  0.002551   \n",
       "\n",
       "           neighbors    income  \n",
       "year       -0.000876 -0.020535  \n",
       "day         0.000181  0.002628  \n",
       "length      0.031523  0.000488  \n",
       "weight      0.691963  0.069774  \n",
       "count       0.025441 -0.003635  \n",
       "looped      0.052826  0.002551  \n",
       "neighbors   1.000000  0.138966  \n",
       "income      0.138966  1.000000  "
      ]
     },
     "execution_count": 7,
     "metadata": {},
     "output_type": "execute_result"
    }
   ],
   "source": [
    "data_df.corr()"
   ]
  },
  {
   "cell_type": "code",
   "execution_count": 8,
<<<<<<< HEAD
   "id": "driven-balance",
=======
   "metadata": {},
   "outputs": [
    {
     "name": "stdout",
     "output_type": "stream",
     "text": [
      "<class 'pandas.core.frame.DataFrame'>\n",
      "RangeIndex: 2916697 entries, 0 to 2916696\n",
      "Data columns (total 10 columns):\n",
      " #   Column     Dtype  \n",
      "---  ------     -----  \n",
      " 0   address    object \n",
      " 1   year       int64  \n",
      " 2   day        int64  \n",
      " 3   length     int64  \n",
      " 4   weight     float64\n",
      " 5   count      int64  \n",
      " 6   looped     int64  \n",
      " 7   neighbors  int64  \n",
      " 8   income     float64\n",
      " 9   label      int64  \n",
      "dtypes: float64(2), int64(7), object(1)\n",
      "memory usage: 222.5+ MB\n"
     ]
    }
   ],
   "source": [
    "bitcoindf.info()"
   ]
  },
  {
   "cell_type": "code",
   "execution_count": 9,
   "metadata": {},
   "outputs": [
    {
     "data": {
      "text/plain": [
       "78     8454\n",
       "77     8391\n",
       "79     8386\n",
       "76     8383\n",
       "81     8357\n",
       "       ... \n",
       "346    7044\n",
       "363    7043\n",
       "349    7042\n",
       "361    7039\n",
       "348    7038\n",
       "Name: day, Length: 365, dtype: int64"
      ]
     },
     "execution_count": 9,
     "metadata": {},
     "output_type": "execute_result"
    }
   ],
   "source": [
    "bitcoindf['day'].value_counts()"
   ]
  },
  {
   "cell_type": "code",
   "execution_count": 10,
   "metadata": {},
   "outputs": [
    {
     "data": {
      "text/plain": [
       "0      708621\n",
       "144    624842\n",
       "2      357209\n",
       "4      187632\n",
       "6      127337\n",
       "        ...  \n",
       "98       3759\n",
       "112      3625\n",
       "110      3588\n",
       "108      3586\n",
       "106      3563\n",
       "Name: length, Length: 73, dtype: int64"
      ]
     },
     "execution_count": 10,
     "metadata": {},
     "output_type": "execute_result"
    }
   ],
   "source": [
    "bitcoindf['length'].value_counts()"
   ]
  },
  {
   "cell_type": "code",
   "execution_count": 11,
>>>>>>> accba329395c2ae1c2bfb241b12f099c0c30e3ae
   "metadata": {},
   "outputs": [
    {
     "data": {
      "text/plain": [
       "address       object\n",
       "year           int64\n",
       "day            int64\n",
       "length         int64\n",
       "weight       float64\n",
       "count          int64\n",
       "looped         int64\n",
       "neighbors      int64\n",
       "income       float64\n",
       "label         object\n",
       "dtype: object"
      ]
     },
     "execution_count": 8,
     "metadata": {},
     "output_type": "execute_result"
    }
   ],
   "source": [
    "data_df.dtypes\n"
   ]
  },
  {
   "cell_type": "code",
<<<<<<< HEAD
   "execution_count": 9,
   "id": "suffering-rainbow",
=======
   "execution_count": 12,
>>>>>>> accba329395c2ae1c2bfb241b12f099c0c30e3ae
   "metadata": {},
   "outputs": [
    {
     "data": {
      "text/plain": [
       "array(['princetonCerber', 'princetonLocky', 'montrealCryptoLocker',\n",
       "       'montrealCryptXXX', 'paduaCryptoWall', 'montrealWannaCry',\n",
       "       'montrealDMALockerv3', 'montrealCryptoTorLocker2015',\n",
       "       'montrealSamSam', 'montrealFlyper', 'montrealNoobCrypt',\n",
       "       'montrealDMALocker', 'montrealGlobe', 'montrealEDA2',\n",
       "       'paduaKeRanger', 'montrealVenusLocker', 'montrealXTPLocker',\n",
       "       'paduaJigsaw', 'montrealGlobev3', 'montrealJigSaw',\n",
       "       'montrealXLockerv5.0', 'montrealXLocker', 'montrealRazy',\n",
       "       'montrealCryptConsole', 'montrealGlobeImposter', 'montrealSam',\n",
       "       'montrealComradeCircle', 'montrealAPT', 'white'], dtype=object)"
      ]
     },
     "execution_count": 9,
     "metadata": {},
     "output_type": "execute_result"
    }
   ],
   "source": [
    "data_df['label'].unique()"
   ]
  },
  {
   "cell_type": "code",
<<<<<<< HEAD
   "execution_count": 10,
   "id": "independent-surveillance",
=======
   "execution_count": 13,
>>>>>>> accba329395c2ae1c2bfb241b12f099c0c30e3ae
   "metadata": {},
   "outputs": [],
   "source": [
    "ransomware_list = ['princetonCerber','princetonLocky','montrealCryptoLocker',\n",
    "                    'montrealCryptXXX','montrealWannaCry','montrealDMALockerv3', 'montrealCryptoTorLocker2015',\n",
    "                    'montrealSamSam', 'montrealFlyper', 'montrealNoobCrypt','montrealDMALocker', 'montrealGlobe',\n",
    "                    'montrealEDA2','montrealVenusLocker', 'montrealXTPLocker','montrealGlobev3', 'montrealJigSaw',\n",
    "                    'montrealXLockerv5.0', 'montrealXLocker', 'montrealRazy','montrealCryptConsole', 'montrealGlobeImposter',\n",
    "                    'montrealSam','montrealComradeCircle', 'montrealAPT',\n",
    "                   'paduaCryptoWall','paduaKeRanger','paduaJigsaw']\n",
    "data_df.replace(ransomware_list,'ransomeware',inplace = True)"
   ]
  },
  {
   "cell_type": "code",
<<<<<<< HEAD
   "execution_count": 11,
   "id": "virgin-facial",
=======
   "execution_count": 14,
>>>>>>> accba329395c2ae1c2bfb241b12f099c0c30e3ae
   "metadata": {},
   "outputs": [
    {
     "data": {
<<<<<<< HEAD
=======
      "text/plain": [
       "2    2875284\n",
       "1      41413\n",
       "Name: label, dtype: int64"
      ]
     },
     "execution_count": 14,
     "metadata": {},
     "output_type": "execute_result"
    }
   ],
   "source": [
    "bitcoindf['label'].value_counts()"
   ]
  },
  {
   "cell_type": "code",
   "execution_count": 15,
   "metadata": {
    "scrolled": false
   },
   "outputs": [
    {
     "data": {
>>>>>>> accba329395c2ae1c2bfb241b12f099c0c30e3ae
      "text/html": [
       "<div>\n",
       "<style scoped>\n",
       "    .dataframe tbody tr th:only-of-type {\n",
       "        vertical-align: middle;\n",
       "    }\n",
       "\n",
       "    .dataframe tbody tr th {\n",
       "        vertical-align: top;\n",
       "    }\n",
       "\n",
       "    .dataframe thead th {\n",
       "        text-align: right;\n",
       "    }\n",
       "</style>\n",
       "<table border=\"1\" class=\"dataframe\">\n",
       "  <thead>\n",
       "    <tr style=\"text-align: right;\">\n",
       "      <th></th>\n",
       "      <th>address</th>\n",
       "      <th>year</th>\n",
       "      <th>day</th>\n",
       "      <th>length</th>\n",
       "      <th>weight</th>\n",
       "      <th>count</th>\n",
       "      <th>looped</th>\n",
       "      <th>neighbors</th>\n",
       "      <th>income</th>\n",
       "      <th>label</th>\n",
       "    </tr>\n",
       "  </thead>\n",
       "  <tbody>\n",
       "    <tr>\n",
       "      <th>0</th>\n",
       "      <td>111K8kZAEnJg245r2cM6y9zgJGHZtJPy6</td>\n",
       "      <td>2017</td>\n",
       "      <td>11</td>\n",
       "      <td>18</td>\n",
       "      <td>0.008333</td>\n",
       "      <td>1</td>\n",
       "      <td>0</td>\n",
       "      <td>2</td>\n",
       "      <td>1.000500e+08</td>\n",
       "      <td>1</td>\n",
       "    </tr>\n",
       "    <tr>\n",
       "      <th>1</th>\n",
       "      <td>1123pJv8jzeFQaCV4w644pzQJzVWay2zcA</td>\n",
       "      <td>2016</td>\n",
       "      <td>132</td>\n",
       "      <td>44</td>\n",
       "      <td>0.000244</td>\n",
       "      <td>1</td>\n",
       "      <td>0</td>\n",
       "      <td>1</td>\n",
       "      <td>1.000000e+08</td>\n",
       "      <td>1</td>\n",
       "    </tr>\n",
       "    <tr>\n",
       "      <th>2</th>\n",
       "      <td>112536im7hy6wtKbpH1qYDWtTyMRAcA2p7</td>\n",
       "      <td>2016</td>\n",
       "      <td>246</td>\n",
       "      <td>0</td>\n",
       "      <td>1.000000</td>\n",
       "      <td>1</td>\n",
       "      <td>0</td>\n",
       "      <td>2</td>\n",
       "      <td>2.000000e+08</td>\n",
       "      <td>1</td>\n",
       "    </tr>\n",
       "    <tr>\n",
       "      <th>3</th>\n",
       "      <td>1126eDRw2wqSkWosjTCre8cjjQW8sSeWH7</td>\n",
       "      <td>2016</td>\n",
       "      <td>322</td>\n",
       "      <td>72</td>\n",
       "      <td>0.003906</td>\n",
       "      <td>1</td>\n",
       "      <td>0</td>\n",
       "      <td>2</td>\n",
       "      <td>7.120000e+07</td>\n",
       "      <td>1</td>\n",
       "    </tr>\n",
       "    <tr>\n",
       "      <th>4</th>\n",
       "      <td>1129TSjKtx65E35GiUo4AYVeyo48twbrGX</td>\n",
       "      <td>2016</td>\n",
       "      <td>238</td>\n",
       "      <td>144</td>\n",
       "      <td>0.072848</td>\n",
       "      <td>456</td>\n",
       "      <td>0</td>\n",
       "      <td>1</td>\n",
       "      <td>2.000000e+08</td>\n",
       "      <td>1</td>\n",
       "    </tr>\n",
       "    <tr>\n",
       "      <th>...</th>\n",
       "      <td>...</td>\n",
       "      <td>...</td>\n",
       "      <td>...</td>\n",
       "      <td>...</td>\n",
       "      <td>...</td>\n",
       "      <td>...</td>\n",
       "      <td>...</td>\n",
       "      <td>...</td>\n",
       "      <td>...</td>\n",
       "      <td>...</td>\n",
       "    </tr>\n",
       "    <tr>\n",
       "      <th>2916692</th>\n",
       "      <td>12D3trgho1vJ4mGtWBRPyHdMJK96TRYSry</td>\n",
       "      <td>2018</td>\n",
       "      <td>330</td>\n",
       "      <td>0</td>\n",
       "      <td>0.111111</td>\n",
       "      <td>1</td>\n",
       "      <td>0</td>\n",
       "      <td>1</td>\n",
       "      <td>1.255809e+09</td>\n",
       "      <td>2</td>\n",
       "    </tr>\n",
       "    <tr>\n",
       "      <th>2916693</th>\n",
       "      <td>1P7PputTcVkhXBmXBvSD9MJ3UYPsiou1u2</td>\n",
       "      <td>2018</td>\n",
       "      <td>330</td>\n",
       "      <td>0</td>\n",
       "      <td>1.000000</td>\n",
       "      <td>1</td>\n",
       "      <td>0</td>\n",
       "      <td>1</td>\n",
       "      <td>4.409699e+07</td>\n",
       "      <td>2</td>\n",
       "    </tr>\n",
       "    <tr>\n",
       "      <th>2916694</th>\n",
       "      <td>1KYiKJEfdJtap9QX2v9BXJMpz2SfU4pgZw</td>\n",
       "      <td>2018</td>\n",
       "      <td>330</td>\n",
       "      <td>2</td>\n",
       "      <td>12.000000</td>\n",
       "      <td>6</td>\n",
       "      <td>6</td>\n",
       "      <td>35</td>\n",
       "      <td>2.398267e+09</td>\n",
       "      <td>2</td>\n",
       "    </tr>\n",
       "    <tr>\n",
       "      <th>2916695</th>\n",
       "      <td>15iPUJsRNZQZHmZZVwmQ63srsmughCXV4a</td>\n",
       "      <td>2018</td>\n",
       "      <td>330</td>\n",
       "      <td>0</td>\n",
       "      <td>0.500000</td>\n",
       "      <td>1</td>\n",
       "      <td>0</td>\n",
       "      <td>1</td>\n",
       "      <td>1.780427e+08</td>\n",
       "      <td>2</td>\n",
       "    </tr>\n",
       "    <tr>\n",
       "      <th>2916696</th>\n",
       "      <td>3LFFBxp15h9KSFtaw55np8eP5fv6kdK17e</td>\n",
       "      <td>2018</td>\n",
       "      <td>330</td>\n",
       "      <td>144</td>\n",
       "      <td>0.073972</td>\n",
       "      <td>6800</td>\n",
       "      <td>0</td>\n",
       "      <td>2</td>\n",
       "      <td>1.123500e+08</td>\n",
       "      <td>2</td>\n",
       "    </tr>\n",
       "  </tbody>\n",
       "</table>\n",
       "<p>2916697 rows × 10 columns</p>\n",
       "</div>"
      ],
      "text/plain": [
       "                                    address  year  day  length     weight  \\\n",
       "0         111K8kZAEnJg245r2cM6y9zgJGHZtJPy6  2017   11      18   0.008333   \n",
       "1        1123pJv8jzeFQaCV4w644pzQJzVWay2zcA  2016  132      44   0.000244   \n",
       "2        112536im7hy6wtKbpH1qYDWtTyMRAcA2p7  2016  246       0   1.000000   \n",
       "3        1126eDRw2wqSkWosjTCre8cjjQW8sSeWH7  2016  322      72   0.003906   \n",
       "4        1129TSjKtx65E35GiUo4AYVeyo48twbrGX  2016  238     144   0.072848   \n",
       "...                                     ...   ...  ...     ...        ...   \n",
       "2916692  12D3trgho1vJ4mGtWBRPyHdMJK96TRYSry  2018  330       0   0.111111   \n",
       "2916693  1P7PputTcVkhXBmXBvSD9MJ3UYPsiou1u2  2018  330       0   1.000000   \n",
       "2916694  1KYiKJEfdJtap9QX2v9BXJMpz2SfU4pgZw  2018  330       2  12.000000   \n",
       "2916695  15iPUJsRNZQZHmZZVwmQ63srsmughCXV4a  2018  330       0   0.500000   \n",
       "2916696  3LFFBxp15h9KSFtaw55np8eP5fv6kdK17e  2018  330     144   0.073972   \n",
       "\n",
<<<<<<< HEAD
       "         count  looped  neighbors        income  label  \n",
       "0            1       0          2  1.000500e+08      1  \n",
       "1            1       0          1  1.000000e+08      1  \n",
       "2            1       0          2  2.000000e+08      1  \n",
       "3            1       0          2  7.120000e+07      1  \n",
       "4          456       0          1  2.000000e+08      1  \n",
       "...        ...     ...        ...           ...    ...  \n",
       "2916692      1       0          1  1.255809e+09      2  \n",
       "2916693      1       0          1  4.409699e+07      2  \n",
       "2916694      6       6         35  2.398267e+09      2  \n",
       "2916695      1       0          1  1.780427e+08      2  \n",
       "2916696   6800       0          2  1.123500e+08      2  \n",
       "\n",
       "[2916697 rows x 10 columns]"
=======
       "             looped     neighbors        income         label  \n",
       "count  2.916697e+06  2.916697e+06  2.916697e+06  2.916697e+06  \n",
       "mean   2.385067e+02  2.206516e+00  4.464889e+09  1.985801e+00  \n",
       "std    9.663217e+02  1.791877e+01  1.626860e+11  1.183089e-01  \n",
       "min    0.000000e+00  1.000000e+00  3.000000e+07  1.000000e+00  \n",
       "25%    0.000000e+00  1.000000e+00  7.428559e+07  2.000000e+00  \n",
       "50%    0.000000e+00  2.000000e+00  1.999985e+08  2.000000e+00  \n",
       "75%    0.000000e+00  2.000000e+00  9.940000e+08  2.000000e+00  \n",
       "max    1.449600e+04  1.292000e+04  4.996440e+13  2.000000e+00  "
      ]
     },
     "execution_count": 15,
     "metadata": {},
     "output_type": "execute_result"
    }
   ],
   "source": [
    "bitcoindf.describe()"
   ]
  },
  {
   "cell_type": "code",
   "execution_count": 16,
   "metadata": {
    "scrolled": true
   },
   "outputs": [
    {
     "data": {
      "text/plain": [
       "array([[<AxesSubplot:title={'center':'year'}>,\n",
       "        <AxesSubplot:title={'center':'day'}>,\n",
       "        <AxesSubplot:title={'center':'length'}>],\n",
       "       [<AxesSubplot:title={'center':'weight'}>,\n",
       "        <AxesSubplot:title={'center':'count'}>,\n",
       "        <AxesSubplot:title={'center':'looped'}>],\n",
       "       [<AxesSubplot:title={'center':'neighbors'}>,\n",
       "        <AxesSubplot:title={'center':'income'}>,\n",
       "        <AxesSubplot:title={'center':'label'}>]], dtype=object)"
>>>>>>> accba329395c2ae1c2bfb241b12f099c0c30e3ae
      ]
     },
     "execution_count": 11,
     "metadata": {},
     "output_type": "execute_result"
    }
   ],
   "source": [
    "data_df.replace('ransomeware',1,inplace = True)\n",
    "data_df.replace('white',2,inplace = True)\n",
    "data_df"
   ]
  },
  {
   "cell_type": "code",
<<<<<<< HEAD
   "execution_count": 12,
   "id": "racial-edition",
=======
   "execution_count": 17,
>>>>>>> accba329395c2ae1c2bfb241b12f099c0c30e3ae
   "metadata": {},
   "outputs": [
    {
     "data": {
      "text/html": [
       "<div>\n",
       "<style scoped>\n",
       "    .dataframe tbody tr th:only-of-type {\n",
       "        vertical-align: middle;\n",
       "    }\n",
       "\n",
       "    .dataframe tbody tr th {\n",
       "        vertical-align: top;\n",
       "    }\n",
       "\n",
       "    .dataframe thead th {\n",
       "        text-align: right;\n",
       "    }\n",
       "</style>\n",
       "<table border=\"1\" class=\"dataframe\">\n",
       "  <thead>\n",
       "    <tr style=\"text-align: right;\">\n",
       "      <th></th>\n",
       "      <th>address</th>\n",
       "      <th>year</th>\n",
       "      <th>day</th>\n",
       "      <th>length</th>\n",
       "      <th>weight</th>\n",
       "      <th>count</th>\n",
       "      <th>looped</th>\n",
       "      <th>neighbors</th>\n",
       "      <th>income</th>\n",
       "      <th>label</th>\n",
       "    </tr>\n",
       "  </thead>\n",
       "  <tbody>\n",
       "    <tr>\n",
       "      <th>0</th>\n",
       "      <td>23</td>\n",
       "      <td>2017</td>\n",
       "      <td>11</td>\n",
       "      <td>18</td>\n",
       "      <td>0.008333</td>\n",
       "      <td>1</td>\n",
       "      <td>0</td>\n",
       "      <td>2</td>\n",
       "      <td>100050000.0</td>\n",
       "      <td>1</td>\n",
       "    </tr>\n",
       "    <tr>\n",
       "      <th>1</th>\n",
       "      <td>128</td>\n",
       "      <td>2016</td>\n",
       "      <td>132</td>\n",
       "      <td>44</td>\n",
       "      <td>0.000244</td>\n",
       "      <td>1</td>\n",
       "      <td>0</td>\n",
       "      <td>1</td>\n",
       "      <td>100000000.0</td>\n",
       "      <td>1</td>\n",
       "    </tr>\n",
       "    <tr>\n",
       "      <th>2</th>\n",
       "      <td>169</td>\n",
       "      <td>2016</td>\n",
       "      <td>246</td>\n",
       "      <td>0</td>\n",
       "      <td>1.000000</td>\n",
       "      <td>1</td>\n",
       "      <td>0</td>\n",
       "      <td>2</td>\n",
       "      <td>200000000.0</td>\n",
       "      <td>1</td>\n",
       "    </tr>\n",
       "    <tr>\n",
       "      <th>3</th>\n",
       "      <td>217</td>\n",
       "      <td>2016</td>\n",
       "      <td>322</td>\n",
       "      <td>72</td>\n",
       "      <td>0.003906</td>\n",
       "      <td>1</td>\n",
       "      <td>0</td>\n",
       "      <td>2</td>\n",
       "      <td>71200000.0</td>\n",
       "      <td>1</td>\n",
       "    </tr>\n",
       "    <tr>\n",
       "      <th>4</th>\n",
       "      <td>293</td>\n",
       "      <td>2016</td>\n",
       "      <td>238</td>\n",
       "      <td>144</td>\n",
       "      <td>0.072848</td>\n",
       "      <td>456</td>\n",
       "      <td>0</td>\n",
       "      <td>1</td>\n",
       "      <td>200000000.0</td>\n",
       "      <td>1</td>\n",
       "    </tr>\n",
       "  </tbody>\n",
       "</table>\n",
       "</div>"
      ],
      "text/plain": [
       "   address  year  day  length    weight  count  looped  neighbors  \\\n",
       "0       23  2017   11      18  0.008333      1       0          2   \n",
       "1      128  2016  132      44  0.000244      1       0          1   \n",
       "2      169  2016  246       0  1.000000      1       0          2   \n",
       "3      217  2016  322      72  0.003906      1       0          2   \n",
       "4      293  2016  238     144  0.072848    456       0          1   \n",
       "\n",
       "        income  label  \n",
       "0  100050000.0      1  \n",
       "1  100000000.0      1  \n",
       "2  200000000.0      1  \n",
       "3   71200000.0      1  \n",
       "4  200000000.0      1  "
      ]
     },
     "execution_count": 12,
     "metadata": {},
     "output_type": "execute_result"
    }
   ],
   "source": [
    "label_encoder = preprocessing.LabelEncoder()\n",
    "data_df['address']=label_encoder.fit_transform(data_df['address'])\n",
    "data_df.head()"
   ]
  },
  {
   "cell_type": "code",
   "execution_count": 13,
   "id": "twelve-headset",
   "metadata": {},
   "outputs": [
    {
     "data": {
      "text/html": [
       "<div>\n",
       "<style scoped>\n",
       "    .dataframe tbody tr th:only-of-type {\n",
       "        vertical-align: middle;\n",
       "    }\n",
       "\n",
       "    .dataframe tbody tr th {\n",
       "        vertical-align: top;\n",
       "    }\n",
       "\n",
       "    .dataframe thead th {\n",
       "        text-align: right;\n",
       "    }\n",
       "</style>\n",
       "<table border=\"1\" class=\"dataframe\">\n",
       "  <thead>\n",
       "    <tr style=\"text-align: right;\">\n",
       "      <th></th>\n",
       "      <th>address</th>\n",
       "      <th>year</th>\n",
       "      <th>day</th>\n",
       "      <th>length</th>\n",
       "      <th>weight</th>\n",
       "      <th>count</th>\n",
       "      <th>looped</th>\n",
       "      <th>neighbors</th>\n",
       "      <th>income</th>\n",
       "      <th>label</th>\n",
       "    </tr>\n",
       "  </thead>\n",
       "  <tbody>\n",
       "    <tr>\n",
       "      <th>0</th>\n",
       "      <td>23</td>\n",
       "      <td>2017</td>\n",
       "      <td>11</td>\n",
       "      <td>18</td>\n",
       "      <td>0.008333</td>\n",
       "      <td>1</td>\n",
       "      <td>0</td>\n",
       "      <td>2</td>\n",
       "      <td>100050000.0</td>\n",
       "      <td>1</td>\n",
       "    </tr>\n",
       "    <tr>\n",
       "      <th>1</th>\n",
       "      <td>128</td>\n",
       "      <td>2016</td>\n",
       "      <td>132</td>\n",
       "      <td>44</td>\n",
       "      <td>0.000244</td>\n",
       "      <td>1</td>\n",
       "      <td>0</td>\n",
       "      <td>1</td>\n",
       "      <td>100000000.0</td>\n",
       "      <td>1</td>\n",
       "    </tr>\n",
       "    <tr>\n",
       "      <th>2</th>\n",
       "      <td>169</td>\n",
       "      <td>2016</td>\n",
       "      <td>246</td>\n",
       "      <td>0</td>\n",
       "      <td>1.000000</td>\n",
       "      <td>1</td>\n",
       "      <td>0</td>\n",
       "      <td>2</td>\n",
       "      <td>200000000.0</td>\n",
       "      <td>1</td>\n",
       "    </tr>\n",
       "    <tr>\n",
       "      <th>3</th>\n",
       "      <td>217</td>\n",
       "      <td>2016</td>\n",
       "      <td>322</td>\n",
       "      <td>72</td>\n",
       "      <td>0.003906</td>\n",
       "      <td>1</td>\n",
       "      <td>0</td>\n",
       "      <td>2</td>\n",
       "      <td>71200000.0</td>\n",
       "      <td>1</td>\n",
       "    </tr>\n",
       "    <tr>\n",
       "      <th>4</th>\n",
       "      <td>293</td>\n",
       "      <td>2016</td>\n",
       "      <td>238</td>\n",
       "      <td>144</td>\n",
       "      <td>0.072848</td>\n",
       "      <td>456</td>\n",
       "      <td>0</td>\n",
       "      <td>1</td>\n",
       "      <td>200000000.0</td>\n",
       "      <td>1</td>\n",
       "    </tr>\n",
       "  </tbody>\n",
       "</table>\n",
       "</div>"
      ],
      "text/plain": [
       "   address  year  day  length    weight  count  looped  neighbors  \\\n",
       "0       23  2017   11      18  0.008333      1       0          2   \n",
       "1      128  2016  132      44  0.000244      1       0          1   \n",
       "2      169  2016  246       0  1.000000      1       0          2   \n",
       "3      217  2016  322      72  0.003906      1       0          2   \n",
       "4      293  2016  238     144  0.072848    456       0          1   \n",
       "\n",
       "        income  label  \n",
       "0  100050000.0      1  \n",
       "1  100000000.0      1  \n",
       "2  200000000.0      1  \n",
       "3   71200000.0      1  \n",
       "4  200000000.0      1  "
      ]
     },
     "execution_count": 13,
     "metadata": {},
     "output_type": "execute_result"
    }
   ],
   "source": [
    "data_df.head()"
   ]
  },
  {
   "cell_type": "code",
   "execution_count": 14,
   "id": "bound-income",
   "metadata": {},
   "outputs": [
    {
     "data": {
      "text/html": [
       "<div>\n",
       "<style scoped>\n",
       "    .dataframe tbody tr th:only-of-type {\n",
       "        vertical-align: middle;\n",
       "    }\n",
       "\n",
       "    .dataframe tbody tr th {\n",
       "        vertical-align: top;\n",
       "    }\n",
       "\n",
       "    .dataframe thead th {\n",
       "        text-align: right;\n",
       "    }\n",
       "</style>\n",
       "<table border=\"1\" class=\"dataframe\">\n",
       "  <thead>\n",
       "    <tr style=\"text-align: right;\">\n",
       "      <th></th>\n",
       "      <th>address</th>\n",
       "      <th>year</th>\n",
       "      <th>day</th>\n",
       "      <th>length</th>\n",
       "      <th>weight</th>\n",
       "      <th>count</th>\n",
       "      <th>looped</th>\n",
       "      <th>neighbors</th>\n",
       "      <th>income</th>\n",
       "      <th>label</th>\n",
       "    </tr>\n",
       "  </thead>\n",
       "  <tbody>\n",
       "    <tr>\n",
       "      <th>address</th>\n",
       "      <td>1.000000</td>\n",
       "      <td>0.185803</td>\n",
       "      <td>0.017566</td>\n",
       "      <td>0.000723</td>\n",
       "      <td>0.009506</td>\n",
       "      <td>0.044201</td>\n",
       "      <td>0.008970</td>\n",
       "      <td>0.008869</td>\n",
       "      <td>-0.001169</td>\n",
       "      <td>0.016943</td>\n",
       "    </tr>\n",
       "    <tr>\n",
       "      <th>year</th>\n",
       "      <td>0.185803</td>\n",
       "      <td>1.000000</td>\n",
       "      <td>-0.040307</td>\n",
       "      <td>0.163101</td>\n",
       "      <td>0.011827</td>\n",
       "      <td>0.285415</td>\n",
       "      <td>0.113164</td>\n",
       "      <td>-0.000876</td>\n",
       "      <td>-0.020535</td>\n",
       "      <td>-0.021367</td>\n",
       "    </tr>\n",
       "    <tr>\n",
       "      <th>day</th>\n",
       "      <td>0.017566</td>\n",
       "      <td>-0.040307</td>\n",
       "      <td>1.000000</td>\n",
       "      <td>0.011919</td>\n",
       "      <td>0.000864</td>\n",
       "      <td>-0.002538</td>\n",
       "      <td>0.002566</td>\n",
       "      <td>0.000181</td>\n",
       "      <td>0.002628</td>\n",
       "      <td>0.008097</td>\n",
       "    </tr>\n",
       "    <tr>\n",
       "      <th>length</th>\n",
       "      <td>0.000723</td>\n",
       "      <td>0.163101</td>\n",
       "      <td>0.011919</td>\n",
       "      <td>1.000000</td>\n",
       "      <td>0.000228</td>\n",
       "      <td>0.703467</td>\n",
       "      <td>0.411609</td>\n",
       "      <td>0.031523</td>\n",
       "      <td>0.000488</td>\n",
       "      <td>0.006860</td>\n",
       "    </tr>\n",
       "    <tr>\n",
       "      <th>weight</th>\n",
       "      <td>0.009506</td>\n",
       "      <td>0.011827</td>\n",
       "      <td>0.000864</td>\n",
       "      <td>0.000228</td>\n",
       "      <td>1.000000</td>\n",
       "      <td>0.022313</td>\n",
       "      <td>0.061646</td>\n",
       "      <td>0.691963</td>\n",
       "      <td>0.069774</td>\n",
       "      <td>-0.002676</td>\n",
       "    </tr>\n",
       "    <tr>\n",
       "      <th>count</th>\n",
       "      <td>0.044201</td>\n",
       "      <td>0.285415</td>\n",
       "      <td>-0.002538</td>\n",
       "      <td>0.703467</td>\n",
       "      <td>0.022313</td>\n",
       "      <td>1.000000</td>\n",
       "      <td>0.560370</td>\n",
       "      <td>0.025441</td>\n",
       "      <td>-0.003635</td>\n",
       "      <td>0.008654</td>\n",
       "    </tr>\n",
       "    <tr>\n",
       "      <th>looped</th>\n",
       "      <td>0.008970</td>\n",
       "      <td>0.113164</td>\n",
       "      <td>0.002566</td>\n",
       "      <td>0.411609</td>\n",
       "      <td>0.061646</td>\n",
       "      <td>0.560370</td>\n",
       "      <td>1.000000</td>\n",
       "      <td>0.052826</td>\n",
       "      <td>0.002551</td>\n",
       "      <td>0.017810</td>\n",
       "    </tr>\n",
       "    <tr>\n",
       "      <th>neighbors</th>\n",
       "      <td>0.008869</td>\n",
       "      <td>-0.000876</td>\n",
       "      <td>0.000181</td>\n",
       "      <td>0.031523</td>\n",
       "      <td>0.691963</td>\n",
       "      <td>0.025441</td>\n",
       "      <td>0.052826</td>\n",
       "      <td>1.000000</td>\n",
       "      <td>0.138966</td>\n",
       "      <td>0.000872</td>\n",
       "    </tr>\n",
       "    <tr>\n",
       "      <th>income</th>\n",
       "      <td>-0.001169</td>\n",
       "      <td>-0.020535</td>\n",
       "      <td>0.002628</td>\n",
       "      <td>0.000488</td>\n",
       "      <td>0.069774</td>\n",
       "      <td>-0.003635</td>\n",
       "      <td>0.002551</td>\n",
       "      <td>0.138966</td>\n",
       "      <td>1.000000</td>\n",
       "      <td>0.002716</td>\n",
       "    </tr>\n",
       "    <tr>\n",
       "      <th>label</th>\n",
       "      <td>0.016943</td>\n",
       "      <td>-0.021367</td>\n",
       "      <td>0.008097</td>\n",
       "      <td>0.006860</td>\n",
       "      <td>-0.002676</td>\n",
       "      <td>0.008654</td>\n",
       "      <td>0.017810</td>\n",
       "      <td>0.000872</td>\n",
       "      <td>0.002716</td>\n",
       "      <td>1.000000</td>\n",
       "    </tr>\n",
       "  </tbody>\n",
       "</table>\n",
       "</div>"
      ],
      "text/plain": [
       "            address      year       day    length    weight     count  \\\n",
       "address    1.000000  0.185803  0.017566  0.000723  0.009506  0.044201   \n",
       "year       0.185803  1.000000 -0.040307  0.163101  0.011827  0.285415   \n",
       "day        0.017566 -0.040307  1.000000  0.011919  0.000864 -0.002538   \n",
       "length     0.000723  0.163101  0.011919  1.000000  0.000228  0.703467   \n",
       "weight     0.009506  0.011827  0.000864  0.000228  1.000000  0.022313   \n",
       "count      0.044201  0.285415 -0.002538  0.703467  0.022313  1.000000   \n",
       "looped     0.008970  0.113164  0.002566  0.411609  0.061646  0.560370   \n",
       "neighbors  0.008869 -0.000876  0.000181  0.031523  0.691963  0.025441   \n",
       "income    -0.001169 -0.020535  0.002628  0.000488  0.069774 -0.003635   \n",
       "label      0.016943 -0.021367  0.008097  0.006860 -0.002676  0.008654   \n",
       "\n",
       "             looped  neighbors    income     label  \n",
       "address    0.008970   0.008869 -0.001169  0.016943  \n",
       "year       0.113164  -0.000876 -0.020535 -0.021367  \n",
       "day        0.002566   0.000181  0.002628  0.008097  \n",
       "length     0.411609   0.031523  0.000488  0.006860  \n",
       "weight     0.061646   0.691963  0.069774 -0.002676  \n",
       "count      0.560370   0.025441 -0.003635  0.008654  \n",
       "looped     1.000000   0.052826  0.002551  0.017810  \n",
       "neighbors  0.052826   1.000000  0.138966  0.000872  \n",
       "income     0.002551   0.138966  1.000000  0.002716  \n",
       "label      0.017810   0.000872  0.002716  1.000000  "
      ]
     },
     "execution_count": 14,
     "metadata": {},
     "output_type": "execute_result"
    }
   ],
   "source": [
    "data_df.corr()"
   ]
  },
  {
<<<<<<< HEAD
   "cell_type": "code",
   "execution_count": 15,
   "id": "hispanic-hardwood",
   "metadata": {},
   "outputs": [
    {
     "data": {
      "text/plain": [
       "<AxesSubplot:>"
      ]
     },
     "execution_count": 15,
     "metadata": {},
     "output_type": "execute_result"
    },
=======
   "cell_type": "markdown",
   "metadata": {},
   "source": [
    "## Train test spliting"
   ]
  },
  {
   "cell_type": "code",
   "execution_count": 18,
   "metadata": {},
   "outputs": [],
   "source": [
    "def split_train_test(data, test_ratio):\n",
    "    np.random.seed(42)\n",
    "    shuffled = np.random.permutation(len(data))\n",
    "    test_set_size=int(len(data) * test_ratio)\n",
    "    test_indices = shuffled[ : test_set_size]\n",
    "    train_indices=shuffled[test_set_size : ]\n",
    "    return data.iloc[train_indices], data.iloc[test_indices]"
   ]
  },
  {
   "cell_type": "code",
   "execution_count": 19,
   "metadata": {},
   "outputs": [],
   "source": [
    "train_set, test_set= split_train_test(bitcoindf, 0.2)"
   ]
  },
  {
   "cell_type": "code",
   "execution_count": 20,
   "metadata": {},
   "outputs": [
    {
     "name": "stdout",
     "output_type": "stream",
     "text": [
      "2333358\n"
     ]
    }
   ],
   "source": [
    "print(len(train_set))"
   ]
  },
  {
   "cell_type": "code",
   "execution_count": 21,
   "metadata": {},
   "outputs": [
    {
     "name": "stdout",
     "output_type": "stream",
     "text": [
      "583339\n"
     ]
    }
   ],
   "source": [
    "print(len(test_set))"
   ]
  },
  {
   "cell_type": "code",
   "execution_count": 22,
   "metadata": {},
   "outputs": [],
   "source": [
    "from sklearn.model_selection import train_test_split\n",
    "train_set,test_set = train_test_split(bitcoindf,test_size=0.2, random_state=42)"
   ]
  },
  {
   "cell_type": "code",
   "execution_count": 23,
   "metadata": {},
   "outputs": [
    {
     "name": "stdout",
     "output_type": "stream",
     "text": [
      "2333357\n"
     ]
    }
   ],
   "source": [
    "print(len(train_set))"
   ]
  },
  {
   "cell_type": "code",
   "execution_count": 24,
   "metadata": {},
   "outputs": [
>>>>>>> accba329395c2ae1c2bfb241b12f099c0c30e3ae
    {
     "data": {
      "image/png": "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\n",
      "text/plain": [
       "<Figure size 1440x1080 with 2 Axes>"
      ]
     },
     "metadata": {
      "needs_background": "light"
     },
     "output_type": "display_data"
    }
   ],
   "source": [
<<<<<<< HEAD
    "matrix = np.triu(data_df.corr())\n",
    "plt.figure(figsize = (20,15))\n",
    "sns.heatmap(data_df.corr(), annot=True)"
=======
    "print(len(test_set))"
   ]
  },
  {
   "cell_type": "markdown",
   "metadata": {},
   "source": [
    "# Stratified Sampling"
>>>>>>> accba329395c2ae1c2bfb241b12f099c0c30e3ae
   ]
  },
  {
   "cell_type": "code",
<<<<<<< HEAD
   "execution_count": 16,
   "id": "ceramic-jefferson",
=======
   "execution_count": 25,
>>>>>>> accba329395c2ae1c2bfb241b12f099c0c30e3ae
   "metadata": {},
   "outputs": [],
   "source": [
    "minmax =MinMaxScaler()\n",
    "data_minmax_df = minmax.fit_transform(data_df)"
   ]
  },
  {
   "cell_type": "code",
<<<<<<< HEAD
   "execution_count": 17,
   "id": "continent-desktop",
=======
   "execution_count": 26,
>>>>>>> accba329395c2ae1c2bfb241b12f099c0c30e3ae
   "metadata": {},
   "outputs": [
    {
     "data": {
      "text/html": [
       "<div>\n",
       "<style scoped>\n",
       "    .dataframe tbody tr th:only-of-type {\n",
       "        vertical-align: middle;\n",
       "    }\n",
       "\n",
       "    .dataframe tbody tr th {\n",
       "        vertical-align: top;\n",
       "    }\n",
       "\n",
       "    .dataframe thead th {\n",
       "        text-align: right;\n",
       "    }\n",
       "</style>\n",
       "<table border=\"1\" class=\"dataframe\">\n",
       "  <thead>\n",
       "    <tr style=\"text-align: right;\">\n",
       "      <th></th>\n",
       "      <th>year</th>\n",
       "      <th>day</th>\n",
       "      <th>length</th>\n",
       "      <th>weight</th>\n",
       "      <th>count</th>\n",
       "      <th>looped</th>\n",
       "      <th>neighbors</th>\n",
       "      <th>income</th>\n",
       "      <th>label</th>\n",
       "    </tr>\n",
       "  </thead>\n",
       "  <tbody>\n",
       "    <tr>\n",
       "      <th>0</th>\n",
       "      <td>2017</td>\n",
       "      <td>11</td>\n",
       "      <td>18</td>\n",
       "      <td>0.008333</td>\n",
       "      <td>1</td>\n",
       "      <td>0</td>\n",
       "      <td>2</td>\n",
       "      <td>1.000500e+08</td>\n",
       "      <td>1</td>\n",
       "    </tr>\n",
       "    <tr>\n",
       "      <th>1</th>\n",
       "      <td>2016</td>\n",
       "      <td>132</td>\n",
       "      <td>44</td>\n",
       "      <td>0.000244</td>\n",
       "      <td>1</td>\n",
       "      <td>0</td>\n",
       "      <td>1</td>\n",
       "      <td>1.000000e+08</td>\n",
       "      <td>1</td>\n",
       "    </tr>\n",
       "    <tr>\n",
       "      <th>2</th>\n",
       "      <td>2016</td>\n",
       "      <td>246</td>\n",
       "      <td>0</td>\n",
       "      <td>1.000000</td>\n",
       "      <td>1</td>\n",
       "      <td>0</td>\n",
       "      <td>2</td>\n",
       "      <td>2.000000e+08</td>\n",
       "      <td>1</td>\n",
       "    </tr>\n",
       "    <tr>\n",
       "      <th>3</th>\n",
       "      <td>2016</td>\n",
       "      <td>322</td>\n",
       "      <td>72</td>\n",
       "      <td>0.003906</td>\n",
       "      <td>1</td>\n",
       "      <td>0</td>\n",
       "      <td>2</td>\n",
       "      <td>7.120000e+07</td>\n",
       "      <td>1</td>\n",
       "    </tr>\n",
       "    <tr>\n",
       "      <th>4</th>\n",
       "      <td>2016</td>\n",
       "      <td>238</td>\n",
       "      <td>144</td>\n",
       "      <td>0.072848</td>\n",
       "      <td>456</td>\n",
       "      <td>0</td>\n",
       "      <td>1</td>\n",
       "      <td>2.000000e+08</td>\n",
       "      <td>1</td>\n",
       "    </tr>\n",
       "    <tr>\n",
       "      <th>...</th>\n",
       "      <td>...</td>\n",
       "      <td>...</td>\n",
       "      <td>...</td>\n",
       "      <td>...</td>\n",
       "      <td>...</td>\n",
       "      <td>...</td>\n",
       "      <td>...</td>\n",
       "      <td>...</td>\n",
       "      <td>...</td>\n",
       "    </tr>\n",
       "    <tr>\n",
       "      <th>2916692</th>\n",
       "      <td>2018</td>\n",
       "      <td>330</td>\n",
       "      <td>0</td>\n",
       "      <td>0.111111</td>\n",
       "      <td>1</td>\n",
       "      <td>0</td>\n",
       "      <td>1</td>\n",
       "      <td>1.255809e+09</td>\n",
       "      <td>2</td>\n",
       "    </tr>\n",
       "    <tr>\n",
       "      <th>2916693</th>\n",
       "      <td>2018</td>\n",
       "      <td>330</td>\n",
       "      <td>0</td>\n",
       "      <td>1.000000</td>\n",
       "      <td>1</td>\n",
       "      <td>0</td>\n",
       "      <td>1</td>\n",
       "      <td>4.409699e+07</td>\n",
       "      <td>2</td>\n",
       "    </tr>\n",
       "    <tr>\n",
       "      <th>2916694</th>\n",
       "      <td>2018</td>\n",
       "      <td>330</td>\n",
       "      <td>2</td>\n",
       "      <td>12.000000</td>\n",
       "      <td>6</td>\n",
       "      <td>6</td>\n",
       "      <td>35</td>\n",
       "      <td>2.398267e+09</td>\n",
       "      <td>2</td>\n",
       "    </tr>\n",
       "    <tr>\n",
       "      <th>2916695</th>\n",
       "      <td>2018</td>\n",
       "      <td>330</td>\n",
       "      <td>0</td>\n",
       "      <td>0.500000</td>\n",
       "      <td>1</td>\n",
       "      <td>0</td>\n",
       "      <td>1</td>\n",
       "      <td>1.780427e+08</td>\n",
       "      <td>2</td>\n",
       "    </tr>\n",
       "    <tr>\n",
       "      <th>2916696</th>\n",
       "      <td>2018</td>\n",
       "      <td>330</td>\n",
       "      <td>144</td>\n",
       "      <td>0.073972</td>\n",
       "      <td>6800</td>\n",
       "      <td>0</td>\n",
       "      <td>2</td>\n",
       "      <td>1.123500e+08</td>\n",
       "      <td>2</td>\n",
       "    </tr>\n",
       "  </tbody>\n",
       "</table>\n",
       "<p>2916697 rows × 9 columns</p>\n",
       "</div>"
      ],
      "text/plain": [
       "         year  day  length     weight  count  looped  neighbors        income  \\\n",
       "0        2017   11      18   0.008333      1       0          2  1.000500e+08   \n",
       "1        2016  132      44   0.000244      1       0          1  1.000000e+08   \n",
       "2        2016  246       0   1.000000      1       0          2  2.000000e+08   \n",
       "3        2016  322      72   0.003906      1       0          2  7.120000e+07   \n",
       "4        2016  238     144   0.072848    456       0          1  2.000000e+08   \n",
       "...       ...  ...     ...        ...    ...     ...        ...           ...   \n",
       "2916692  2018  330       0   0.111111      1       0          1  1.255809e+09   \n",
       "2916693  2018  330       0   1.000000      1       0          1  4.409699e+07   \n",
       "2916694  2018  330       2  12.000000      6       6         35  2.398267e+09   \n",
       "2916695  2018  330       0   0.500000      1       0          1  1.780427e+08   \n",
       "2916696  2018  330     144   0.073972   6800       0          2  1.123500e+08   \n",
       "\n",
       "         label  \n",
       "0            1  \n",
       "1            1  \n",
       "2            1  \n",
       "3            1  \n",
       "4            1  \n",
       "...        ...  \n",
       "2916692      2  \n",
       "2916693      2  \n",
       "2916694      2  \n",
       "2916695      2  \n",
       "2916696      2  \n",
       "\n",
       "[2916697 rows x 9 columns]"
      ]
     },
     "execution_count": 17,
     "metadata": {},
     "output_type": "execute_result"
    }
   ],
   "source": [
    "df_minmax = pd.DataFrame(data_df,columns =['year','day','length','weight','count','looped','neighbors','income','label'])\n",
    "df_minmax"
   ]
  },
  {
   "cell_type": "code",
<<<<<<< HEAD
   "execution_count": 18,
   "id": "wireless-township",
   "metadata": {},
=======
   "execution_count": 27,
   "metadata": {
    "scrolled": true
   },
>>>>>>> accba329395c2ae1c2bfb241b12f099c0c30e3ae
   "outputs": [
    {
     "data": {
      "text/html": [
       "<div>\n",
       "<style scoped>\n",
       "    .dataframe tbody tr th:only-of-type {\n",
       "        vertical-align: middle;\n",
       "    }\n",
       "\n",
       "    .dataframe tbody tr th {\n",
       "        vertical-align: top;\n",
       "    }\n",
       "\n",
       "    .dataframe thead th {\n",
       "        text-align: right;\n",
       "    }\n",
       "</style>\n",
       "<table border=\"1\" class=\"dataframe\">\n",
       "  <thead>\n",
       "    <tr style=\"text-align: right;\">\n",
       "      <th></th>\n",
       "      <th>year</th>\n",
       "      <th>day</th>\n",
       "      <th>length</th>\n",
       "      <th>weight</th>\n",
       "      <th>count</th>\n",
       "      <th>looped</th>\n",
       "      <th>neighbors</th>\n",
       "      <th>income</th>\n",
       "      <th>label</th>\n",
       "    </tr>\n",
       "  </thead>\n",
       "  <tbody>\n",
       "    <tr>\n",
       "      <th>count</th>\n",
       "      <td>2.916697e+06</td>\n",
       "      <td>2.916697e+06</td>\n",
       "      <td>2.916697e+06</td>\n",
       "      <td>2.916697e+06</td>\n",
       "      <td>2.916697e+06</td>\n",
       "      <td>2.916697e+06</td>\n",
       "      <td>2.916697e+06</td>\n",
       "      <td>2.916697e+06</td>\n",
       "      <td>2.916697e+06</td>\n",
       "    </tr>\n",
       "    <tr>\n",
       "      <th>mean</th>\n",
       "      <td>2.014475e+03</td>\n",
       "      <td>1.814572e+02</td>\n",
       "      <td>4.500859e+01</td>\n",
       "      <td>5.455192e-01</td>\n",
       "      <td>7.216446e+02</td>\n",
       "      <td>2.385067e+02</td>\n",
       "      <td>2.206516e+00</td>\n",
       "      <td>4.464889e+09</td>\n",
       "      <td>1.985801e+00</td>\n",
       "    </tr>\n",
       "    <tr>\n",
       "      <th>std</th>\n",
       "      <td>2.257398e+00</td>\n",
       "      <td>1.040118e+02</td>\n",
       "      <td>5.898236e+01</td>\n",
       "      <td>3.674255e+00</td>\n",
       "      <td>1.689676e+03</td>\n",
       "      <td>9.663217e+02</td>\n",
       "      <td>1.791877e+01</td>\n",
       "      <td>1.626860e+11</td>\n",
       "      <td>1.183089e-01</td>\n",
       "    </tr>\n",
       "    <tr>\n",
       "      <th>min</th>\n",
       "      <td>2.011000e+03</td>\n",
       "      <td>1.000000e+00</td>\n",
       "      <td>0.000000e+00</td>\n",
       "      <td>3.606469e-94</td>\n",
       "      <td>1.000000e+00</td>\n",
       "      <td>0.000000e+00</td>\n",
       "      <td>1.000000e+00</td>\n",
       "      <td>3.000000e+07</td>\n",
       "      <td>1.000000e+00</td>\n",
       "    </tr>\n",
       "    <tr>\n",
       "      <th>25%</th>\n",
       "      <td>2.013000e+03</td>\n",
       "      <td>9.200000e+01</td>\n",
       "      <td>2.000000e+00</td>\n",
       "      <td>2.148438e-02</td>\n",
       "      <td>1.000000e+00</td>\n",
       "      <td>0.000000e+00</td>\n",
       "      <td>1.000000e+00</td>\n",
       "      <td>7.428559e+07</td>\n",
       "      <td>2.000000e+00</td>\n",
       "    </tr>\n",
       "    <tr>\n",
       "      <th>50%</th>\n",
       "      <td>2.014000e+03</td>\n",
       "      <td>1.810000e+02</td>\n",
       "      <td>8.000000e+00</td>\n",
       "      <td>2.500000e-01</td>\n",
       "      <td>1.000000e+00</td>\n",
       "      <td>0.000000e+00</td>\n",
       "      <td>2.000000e+00</td>\n",
       "      <td>1.999985e+08</td>\n",
       "      <td>2.000000e+00</td>\n",
       "    </tr>\n",
       "    <tr>\n",
       "      <th>75%</th>\n",
       "      <td>2.016000e+03</td>\n",
       "      <td>2.710000e+02</td>\n",
       "      <td>1.080000e+02</td>\n",
       "      <td>8.819482e-01</td>\n",
       "      <td>5.600000e+01</td>\n",
       "      <td>0.000000e+00</td>\n",
       "      <td>2.000000e+00</td>\n",
       "      <td>9.940000e+08</td>\n",
       "      <td>2.000000e+00</td>\n",
       "    </tr>\n",
       "    <tr>\n",
       "      <th>max</th>\n",
       "      <td>2.018000e+03</td>\n",
       "      <td>3.650000e+02</td>\n",
       "      <td>1.440000e+02</td>\n",
       "      <td>1.943749e+03</td>\n",
       "      <td>1.449700e+04</td>\n",
       "      <td>1.449600e+04</td>\n",
       "      <td>1.292000e+04</td>\n",
       "      <td>4.996440e+13</td>\n",
       "      <td>2.000000e+00</td>\n",
       "    </tr>\n",
       "  </tbody>\n",
       "</table>\n",
       "</div>"
      ],
      "text/plain": [
       "               year           day        length        weight         count  \\\n",
       "count  2.916697e+06  2.916697e+06  2.916697e+06  2.916697e+06  2.916697e+06   \n",
       "mean   2.014475e+03  1.814572e+02  4.500859e+01  5.455192e-01  7.216446e+02   \n",
       "std    2.257398e+00  1.040118e+02  5.898236e+01  3.674255e+00  1.689676e+03   \n",
       "min    2.011000e+03  1.000000e+00  0.000000e+00  3.606469e-94  1.000000e+00   \n",
       "25%    2.013000e+03  9.200000e+01  2.000000e+00  2.148438e-02  1.000000e+00   \n",
       "50%    2.014000e+03  1.810000e+02  8.000000e+00  2.500000e-01  1.000000e+00   \n",
       "75%    2.016000e+03  2.710000e+02  1.080000e+02  8.819482e-01  5.600000e+01   \n",
       "max    2.018000e+03  3.650000e+02  1.440000e+02  1.943749e+03  1.449700e+04   \n",
       "\n",
       "             looped     neighbors        income         label  \n",
       "count  2.916697e+06  2.916697e+06  2.916697e+06  2.916697e+06  \n",
       "mean   2.385067e+02  2.206516e+00  4.464889e+09  1.985801e+00  \n",
       "std    9.663217e+02  1.791877e+01  1.626860e+11  1.183089e-01  \n",
       "min    0.000000e+00  1.000000e+00  3.000000e+07  1.000000e+00  \n",
       "25%    0.000000e+00  1.000000e+00  7.428559e+07  2.000000e+00  \n",
       "50%    0.000000e+00  2.000000e+00  1.999985e+08  2.000000e+00  \n",
       "75%    0.000000e+00  2.000000e+00  9.940000e+08  2.000000e+00  \n",
       "max    1.449600e+04  1.292000e+04  4.996440e+13  2.000000e+00  "
      ]
     },
     "execution_count": 18,
     "metadata": {},
     "output_type": "execute_result"
    }
   ],
   "source": [
    "df_minmax.describe()"
   ]
  },
  {
   "cell_type": "code",
<<<<<<< HEAD
   "execution_count": 19,
   "id": "equivalent-nature",
   "metadata": {},
   "outputs": [],
   "source": [
    "df_zscore=pd.DataFrame(stats.zscore(df_minmax))"
   ]
  },
  {
   "cell_type": "code",
   "execution_count": 20,
   "id": "integrated-albania",
=======
   "execution_count": 28,
>>>>>>> accba329395c2ae1c2bfb241b12f099c0c30e3ae
   "metadata": {},
   "outputs": [
    {
     "data": {
      "text/plain": [
       "<AxesSubplot:>"
      ]
     },
     "execution_count": 20,
     "metadata": {},
     "output_type": "execute_result"
    },
    {
     "data": {
      "image/png": "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\n",
      "text/plain": [
       "<Figure size 1080x720 with 2 Axes>"
      ]
     },
     "metadata": {
      "needs_background": "light"
     },
     "output_type": "display_data"
    }
   ],
   "source": [
    "matrix = np.triu(df_zscore.corr())\n",
    "plt.figure(figsize = (15,10))\n",
    "sns.heatmap(df_zscore.corr(), annot=True)"
   ]
  },
  {
   "cell_type": "code",
<<<<<<< HEAD
   "execution_count": 21,
   "id": "compliant-venue",
=======
   "execution_count": 29,
>>>>>>> accba329395c2ae1c2bfb241b12f099c0c30e3ae
   "metadata": {},
   "outputs": [],
   "source": [
    "X = np.array(data_df.drop(['label'],1))\n",
    "y = np.array(data_df['label'])"
   ]
  },
  {
   "cell_type": "code",
<<<<<<< HEAD
   "execution_count": 22,
   "id": "occupational-stuart",
   "metadata": {},
   "outputs": [],
   "source": [
    "X_train, X_test, y_train, y_test = train_test_split(X,y,test_size = 0.2,random_state = 2)"
   ]
  },
  {
   "cell_type": "code",
   "execution_count": 23,
   "id": "roman-deputy",
   "metadata": {},
   "outputs": [],
   "source": [
    "scaler = StandardScaler()\n",
    "scaler.fit(X_train)\n",
    "X_train = scaler.transform(X_train)\n",
    "X_test = scaler.transform(X_test)"
   ]
  },
  {
   "cell_type": "code",
   "execution_count": 24,
   "id": "protecting-extent",
   "metadata": {},
   "outputs": [],
   "source": [
    "X=data_df.drop('label',axis=1)\n",
    "y=data_df['label']"
   ]
  },
  {
   "cell_type": "code",
   "execution_count": 25,
   "id": "healthy-anatomy",
   "metadata": {},
   "outputs": [],
   "source": [
    "X_train,X_test,y_train,y_test=train_test_split(X,y,test_size=0.2,random_state=2)"
   ]
  },
  {
   "cell_type": "code",
   "execution_count": 26,
   "id": "blessed-heading",
=======
   "execution_count": null,
>>>>>>> accba329395c2ae1c2bfb241b12f099c0c30e3ae
   "metadata": {},
   "outputs": [],
   "source": [
    "from sklearn.ensemble import RandomForestClassifier"
   ]
  },
  {
   "cell_type": "code",
   "execution_count": 27,
   "id": "growing-district",
   "metadata": {},
   "outputs": [
    {
     "name": "stdout",
     "output_type": "stream",
     "text": [
      "0.9857921623752871\n",
      "[2 2 2 ... 2 2 2]\n"
     ]
    }
   ],
   "source": [
    "rf=RandomForestClassifier(max_depth=3,random_state=2)\n",
    "rf=rf.fit(X_train,y_train)\n",
    "print(rf.score(X_test,y_test))\n",
    "print(rf.predict(X_test))"
   ]
  },
  {
   "cell_type": "markdown",
   "metadata": {},
   "source": [
    "##TEST\n"
   ]
  },
  {
   "cell_type": "code",
   "execution_count": null,
<<<<<<< HEAD
   "id": "actual-royal",
=======
>>>>>>> accba329395c2ae1c2bfb241b12f099c0c30e3ae
   "metadata": {},
   "outputs": [],
   "source": []
  }
 ],
 "metadata": {
  "kernelspec": {
   "display_name": "Python 3",
   "language": "python",
   "name": "python3"
  },
  "language_info": {
   "codemirror_mode": {
    "name": "ipython",
    "version": 3
   },
   "file_extension": ".py",
   "mimetype": "text/x-python",
   "name": "python",
   "nbconvert_exporter": "python",
   "pygments_lexer": "ipython3",
   "version": "3.8.5"
  }
 },
 "nbformat": 4,
 "nbformat_minor": 5
}
